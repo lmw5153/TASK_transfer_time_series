{
 "cells": [
  {
   "cell_type": "code",
   "execution_count": 2,
   "id": "7ebab801-077c-43dc-9f56-b335c1d5fcae",
   "metadata": {},
   "outputs": [],
   "source": [
    "import numpy as np\n",
    "import pandas as pd\n",
    "import matplotlib.pyplot as plt\n",
    "from nbeats_keras.model import NBeatsNet as NBeatsKeras\n",
    "from tensorflow.keras import backend as K\n",
    "from tensorflow.keras.callbacks import EarlyStopping, ModelCheckpoint\n",
    "#from nbeats_pytorch.model import NBeatsNet as NBeatsPytorch\n",
    "from keras.optimizers import RMSprop, Adam\n",
    "import time\n",
    "from keras.models import load_model\n",
    "#from target_data_electronic70_7 import target_X, target_y ,test_X, test_y\n",
    "#from m4databasis21_7 import base_domain,zt_in,zt_out,M4Meta,inputsize,train_12,train_12_y\n",
    "from sklearn.metrics import mean_squared_error,mean_absolute_error,mean_absolute_percentage_error\n",
    "from tensorflow.keras.losses import Loss\n",
    "import tensorflow as tf\n",
    "#from m4databasis35_7_70_7 import train_35,train_35_y,train_70,train_70_y\n",
    "from tensorflow.keras import layers\n",
    "from tensorflow.keras.models import Model\n",
    "from tensorflow.keras.layers import Input, Dense, LayerNormalization, MultiHeadAttention, Dropout, Add, Concatenate,Flatten,Reshape\n",
    "#import pandas as pd\n",
    "#####################################################################################\n",
    "target_X= pd.read_csv(\"../data/ele_train_input_7.csv\").iloc[:,(1):].values /10000\n",
    "target_y =pd.read_csv(\"../data/ele_train_output_7.csv\").iloc[:,1:].values/10000\n",
    "test_X= pd.read_csv(\"../data/ele_val_input_7.csv\").iloc[:,(1):].values/10000\n",
    "test_y =pd.read_csv(\"../data/ele_val_output_7.csv\").iloc[:,1:].values/10000\n",
    "\n",
    "np.random.seed(2)\n",
    "random_indices1 = np.random.choice(pd.read_csv(\"../data/M4_train.csv\").iloc[:,(1):].index, size=target_X.shape[0]*10, replace=False)\n",
    "X_train = pd.read_csv(\"../data/M4_train.csv\").iloc[:,1+(24*0):].loc[random_indices1].values\n",
    "y_train = pd.read_csv(\"../data/M4_test.csv\").iloc[:,1:].loc[random_indices1].values\n",
    "X_train.shape[1], y_train.shape[1]\n",
    "\n",
    "target_X.shape,test_X.shape\n",
    "###################################################\n",
    "# loss SMAPE\n",
    "class SMAPE(Loss):\n",
    "    def call(self, y_true, y_pred):\n",
    "        y_pred = tf.reshape(y_pred, tf.shape(y_true))  # 예측 값의 차원을 맞춤\n",
    "       # y_pred=tf.clip_by_value(y_pred, 1e-10, tf.reduce_max(y_pred))\n",
    "       # y_true = tf.clip_by_value(y_true, 1e-10, tf.reduce_max(y_true))\n",
    "        \n",
    "        numerator = 100 * tf.abs(y_true- y_pred )\n",
    "        denominator =  (tf.abs(y_true ) + tf.abs(y_pred))/2\n",
    "        smape =  numerator /  denominator #tf.clip_by_value(denominator, 1e-10, tf.reduce_max(denominator))\n",
    "        return tf.reduce_mean(smape)\n",
    "\n",
    "#################################################################################\n",
    "# loss MASE\n",
    "class MASE(Loss):\n",
    "    def __init__(self, training_data, period, *args, **kwargs):\n",
    "        super().__init__(*args, **kwargs)\n",
    "        self.scale = self.calculate_scale(training_data, period)\n",
    "    def seasonal_diff(data, period):\n",
    "        return data[period:] - data[:-period]\n",
    "\n",
    "    def calculate_scale(self, training_data, period):\n",
    "        # 주기 차분 계산\n",
    "        diff = seasonal_diff(training_data, period)\n",
    "        scale = np.mean(np.abs(diff))\n",
    "        return scale\n",
    "    \n",
    "    def call(self, y_true, y_pred):\n",
    "        y_pred = tf.reshape(y_pred, tf.shape(y_true))  # 차원 맞추기\n",
    "        error = tf.abs(y_true - y_pred)\n",
    "        return tf.reduce_mean(error / self.scale)\n",
    "\n",
    "def seasonal_diff(data, period):\n",
    "    return data[period:] - data[:-period]\n",
    "\n",
    "#################################################################################\n",
    "#################################################################################\n",
    "# 하이퍼파라미터 인자 설정\n",
    "def hyperparameter():\n",
    "    # 1 backcast\n",
    "    # 2 forecast\n",
    "    # 3 inputdim\n",
    "    # 4 outputdim\n",
    "    # 5 unit\n",
    "    # 6 bacth size\n",
    "    return X_train.shape[1], y_train.shape[1],1,1,256\n",
    "\n",
    "#################################################################################\n",
    "# nbeats + I모델 생성 함수\n",
    "def bulid_model(backcast_,forecast_,input_dim,output_dim,unit):\n",
    "    model= NBeatsKeras(backcast_length=backcast_, \n",
    "                       forecast_length=forecast_,\n",
    "                       input_dim=input_dim,\n",
    "                       output_dim=output_dim,\n",
    "                       stack_types=(NBeatsKeras.TREND_BLOCK,\n",
    "                                    NBeatsKeras.TREND_BLOCK,\n",
    "                                    \n",
    "                                    NBeatsKeras.TREND_BLOCK,\n",
    "                                   NBeatsKeras.SEASONALITY_BLOCK,\n",
    "                                   NBeatsKeras.SEASONALITY_BLOCK,\n",
    "                                   NBeatsKeras.SEASONALITY_BLOCK)\n",
    "                   ,nb_blocks_per_stack=1, thetas_dim=(1,2,3,24,12,6),\n",
    "                   share_weights_in_stack=True, hidden_layer_units=unit)\n",
    "    return model \n",
    "#################################################################################\n",
    "# nbeats + G모델 생성 함수    \n",
    "def bulid_model_G(backcast_,forecast_,input_dim,output_dim,unit):\n",
    "    model= NBeatsKeras(backcast_length=backcast_, \n",
    "                       forecast_length=forecast_,\n",
    "                       input_dim=input_dim,\n",
    "                       output_dim=output_dim,\n",
    "                       stack_types=(NBeatsKeras.GENERIC_BLOCK,NBeatsKeras.GENERIC_BLOCK)\n",
    "                   ,nb_blocks_per_stack=5, thetas_dim=(24,24),\n",
    "                   share_weights_in_stack=False, hidden_layer_units=unit)\n",
    "    return model \n",
    "#################################################################################\n",
    "# nbeats + I모델 부트스트랩 샘플링 배깅\n",
    "\n",
    "def train_bagging_models(num_models, loss_fn , epochs_, patience_,batch_size_,lr):\n",
    "    models = {}\n",
    "    backcast,forecast,in_dim,out_dim,unit = hyperparameter()\n",
    "    historys = []\n",
    "    for n in range(num_models):\n",
    "        K.clear_session()\n",
    "        model = bulid_model(backcast,forecast,in_dim,out_dim,unit)\n",
    "       # model.set_weights(pretrained_weights)  # 전이 학습 가중치 적용\n",
    "        optimizer = Adam(learning_rate=lr)\n",
    "        model.compile(optimizer=optimizer , loss=loss_fn)\n",
    "        \n",
    "        # 부트스트랩 샘플링\n",
    "        select = np.random.choice(len(X_train), size=len(X_train), replace=True)\n",
    "        X_bootstrap = X_train[select]\n",
    "        y_bootstrap = y_train[select]\n",
    "        early_stop = EarlyStopping(monitor='val_loss', patience = patience_, verbose = 0, restore_best_weights=True)\n",
    "        history = model.fit(X_bootstrap, y_bootstrap, batch_size = batch_size_,\n",
    "                  epochs=epochs_, verbose=0, \n",
    "                  callbacks=[early_stop],\n",
    "                 validation_split = 0.2)\n",
    "        models[f'model_{n+1}'] = model\n",
    "        historys.append(history)\n",
    "        #models.append(model)\n",
    "        print(f\"'########################################################Model{n}\")\n",
    "    return models,historys\n",
    "#################################################################################\n",
    "# nbeats + I모델 부트스트랩 샘플링 배깅\n",
    "\n",
    "def train_bagging_models_G(num_models, loss_fn , epochs_, patience_,batch_size_,lr):\n",
    "    models = {}\n",
    "    backcast,forecast,in_dim,out_dim,unit = hyperparameter()\n",
    "    historys = []\n",
    "    for n in range(num_models):\n",
    "        K.clear_session()\n",
    "        model = bulid_model_G(backcast,forecast,in_dim,out_dim,unit)\n",
    "       # model.set_weights(pretrained_weights)  # 전이 학습 가중치 적용\n",
    "        optimizer = Adam(learning_rate=lr)\n",
    "        model.compile(optimizer=optimizer , loss=loss_fn)\n",
    "        \n",
    "        # 부트스트랩 샘플링\n",
    "        select = np.random.choice(len(X_train), size=len(X_train), replace=True)\n",
    "        X_bootstrap = X_train[select]\n",
    "        y_bootstrap = y_train[select]\n",
    "        early_stop = EarlyStopping(monitor='val_loss', patience = patience_, restore_best_weights=True)\n",
    "        history = model.fit(X_bootstrap, y_bootstrap, batch_size = batch_size_,\n",
    "                  epochs=epochs_, verbose=0, \n",
    "                  callbacks=[early_stop],\n",
    "                 validation_split = 0.2)\n",
    "        models[f'model_{n+1}'] = model\n",
    "        historys.append(history)\n",
    "        #models.append(model)\n",
    "        print(f\"'########################################################Model{n}\")\n",
    "    return models,historys\n",
    "\n",
    "#################################################################################\n",
    "##########################################################################################\n",
    "# 트랜스퍼 레이어\n",
    "class PositionalEncoding(layers.Layer):\n",
    "    def __init__(self, d_model, dropout=0.1, max_len=5000):\n",
    "        super(PositionalEncoding, self).__init__()\n",
    "        self.dropout = layers.Dropout(rate=dropout)\n",
    "\n",
    "        position = np.arange(max_len)[:, np.newaxis]\n",
    "        div_term = np.exp(np.arange(0, d_model, 2) * (-np.log(10000.0) / d_model))\n",
    "        pe = np.zeros((max_len, d_model))\n",
    "        pe[:, 0::2] = np.sin(position * div_term)\n",
    "        pe[:, 1::2] = np.cos(position * div_term)\n",
    "        pe = pe[np.newaxis, ...]\n",
    "\n",
    "        self.pe = tf.constant(pe, dtype=tf.float32)\n",
    "\n",
    "    def call(self, x):\n",
    "        x = x + self.pe[:, :tf.shape(x)[1], :]\n",
    "        return self.dropout(x)\n",
    "##########################################################################################\n",
    "# 트랜스퍼 레이어\n",
    "def create_model(fn,d_model, nlayers, nhead, dropout, iw, ow,lr,pretrained_output_reshaped,inputs):\n",
    "    \n",
    "    \n",
    "    x = layers.Dense(d_model // 2, activation='relu')(pretrained_output_reshaped)\n",
    "    x = layers.Dense(d_model, activation='relu')(x)\n",
    "    \n",
    "    pos_encoding = PositionalEncoding(d_model, dropout)\n",
    "    x = pos_encoding(x)\n",
    "    \n",
    "    for _ in range(nlayers):\n",
    "        attn_output = layers.MultiHeadAttention(num_heads=nhead, key_dim=d_model, dropout=dropout)(x, x)\n",
    "        x = layers.LayerNormalization(epsilon=1e-6)(x + attn_output)\n",
    "        ffn_output = layers.Dense(d_model, activation='relu')(x)\n",
    "        ffn_output = layers.Dense(d_model)(ffn_output)\n",
    "        x = layers.LayerNormalization(epsilon=1e-6)(x + ffn_output)\n",
    "    \n",
    "    x = layers.Dense(d_model // 2, activation='relu')(x)\n",
    "    x = layers.Dense(1)(x)\n",
    "    x = tf.squeeze(x, axis=-1)\n",
    "    \n",
    "    outputs = layers.Dense((iw + ow) // 2, activation='relu')(x)\n",
    "    outputs = layers.Dense(ow)(outputs)\n",
    "    \n",
    "    optimizer = Adam(learning_rate=lr)\n",
    "    target_model = Model(inputs=inputs, outputs=outputs)\n",
    "    target_model.compile(optimizer=optimizer, loss=fn)\n",
    "    \n",
    "    return target_model\n",
    "########################################################################################################################\n",
    "def transfer_(model_num,models,trainable,\n",
    "              lossf,epochs_,batch_size_,pt,lr_):\n",
    "    #model_mapes_G = {}\n",
    "    #history_mapes_G = []\n",
    "    model_pred = []\n",
    "    for i in range(1, model_num+1):\n",
    "        K.clear_session()\n",
    "        model_name = f'model_{i}'\n",
    "        m,_ = models#[model_name]\n",
    "        model1= m[model_name]\n",
    "        # 모든 레이어를 학습 불가능하게 설정\n",
    "        for layer in model1.layers[:-1]:  # 새로운 레이어 추가된 부분은 학습 가능하도록 설정\n",
    "            layer.trainable = trainable\n",
    "        pretrained_layers = model1.layers[:-1]\n",
    "        \n",
    "        pretrained_model = Model(inputs=model1.input, outputs=pretrained_layers[-1].output)\n",
    "        \n",
    "        inputs = Input(shape=(X_train.shape[1], 1))\n",
    "        pretrained_output = pretrained_model(inputs)\n",
    "        pretrained_output_reshaped = layers.Reshape((y_train.shape[1], -1))(pretrained_output)\n",
    "            \n",
    "        model_instance = create_model(lossf ,d_model=128, nlayers=1,nhead=4, dropout=0.1, iw=X_train.shape[1], ow=y_train.shape[1],lr=lr_\n",
    "                                      ,pretrained_output_reshaped=pretrained_output_reshaped,inputs=inputs)\n",
    "        early_stop = EarlyStopping(monitor='val_loss', patience=pt, verbose=0, restore_best_weights=True)\n",
    "    \n",
    "        history = model_instance.fit(target_X, target_y, batch_size = batch_size_,\n",
    "                      epochs=epochs_, verbose=0, \n",
    "                      callbacks=[early_stop],\n",
    "                     validation_split = 0.2)\n",
    "        pred = model_instance.predict(test_X)\n",
    "        pred = pred.reshape(-1,y_train.shape[1])\n",
    "        model_pred.append(pred)\n",
    "        #history_mapes_G.append(history)\n",
    "        #model_mapes_G[f'model_{i}'] =model_instance\n",
    "        #del model_instance\n",
    "        print(f\"'########################################################fitted{i}\")\n",
    "    return model_pred\n",
    "#################################################################################\n",
    "# 예측\n",
    "\n",
    "def bagging_predict(models, X):\n",
    "    predictions = np.array([model.predict(X) for model in models.values()])\n",
    "    return np.median(predictions, axis=0)\n",
    "\n",
    "def bagging_predict2(models, X):\n",
    "    predictions = np.array([model.predict(X) for model in models.values()])\n",
    "    return predictions"
   ]
  },
  {
   "cell_type": "code",
   "execution_count": 3,
   "id": "1d07f2fa-76d1-4ebb-a8ff-82efd98f5312",
   "metadata": {
    "scrolled": true
   },
   "outputs": [
    {
     "name": "stderr",
     "output_type": "stream",
     "text": [
      "2024-10-11 17:56:56.807047: E tensorflow/compiler/xla/stream_executor/cuda/cuda_driver.cc:267] failed call to cuInit: CUDA_ERROR_NO_DEVICE: no CUDA-capable device is detected\n",
      "2024-10-11 17:56:56.807082: I tensorflow/compiler/xla/stream_executor/cuda/cuda_diagnostics.cc:156] kernel driver does not appear to be running on this host (ymlee2-desktop): /proc/driver/nvidia/version does not exist\n",
      "2024-10-11 17:56:56.807591: I tensorflow/core/platform/cpu_feature_guard.cc:193] This TensorFlow binary is optimized with oneAPI Deep Neural Network Library (oneDNN) to use the following CPU instructions in performance-critical operations:  AVX2 FMA\n",
      "To enable them in other operations, rebuild TensorFlow with the appropriate compiler flags.\n"
     ]
    },
    {
     "name": "stdout",
     "output_type": "stream",
     "text": [
      "'########################################################Model0\n",
      "'########################################################Model1\n",
      "'########################################################Model2\n",
      "'########################################################Model3\n",
      "'########################################################Model4\n",
      "'########################################################Model0\n",
      "'########################################################Model1\n",
      "'########################################################Model2\n",
      "'########################################################Model3\n",
      "'########################################################Model4\n",
      "'########################################################Model0\n",
      "'########################################################Model1\n",
      "'########################################################Model2\n",
      "'########################################################Model3\n",
      "'########################################################Model4\n",
      "'########################################################Model0\n",
      "'########################################################Model1\n",
      "'########################################################Model2\n",
      "'########################################################Model3\n",
      "'########################################################Model4\n",
      "'########################################################Model0\n",
      "'########################################################Model1\n",
      "'########################################################Model2\n",
      "'########################################################Model3\n",
      "'########################################################Model4\n"
     ]
    }
   ],
   "source": [
    "num=5\n",
    "mape_models = train_bagging_models(num,'mape',100,10,512,0.001)\n",
    "smape_models = train_bagging_models(num,SMAPE(),100,10,512,0.001)\n",
    "mase_models = train_bagging_models(num,MASE(y_train,y_train.shape[1]),100,10,512,0.001)\n",
    "mae_models = train_bagging_models(num,'mae',100,10,512,0.001)\n",
    "mse_models = train_bagging_models(num,'mse',100,10,512,0.001)"
   ]
  },
  {
   "cell_type": "code",
   "execution_count": 4,
   "id": "bb556995-5d3b-4edb-921f-062ea5192e63",
   "metadata": {
    "scrolled": true
   },
   "outputs": [
    {
     "name": "stdout",
     "output_type": "stream",
     "text": [
      "12/12 [==============================] - 1s 10ms/step\n",
      "'########################################################fitted1\n",
      "12/12 [==============================] - 1s 9ms/step\n",
      "'########################################################fitted2\n",
      "12/12 [==============================] - 1s 10ms/step\n",
      "'########################################################fitted3\n",
      "12/12 [==============================] - 1s 8ms/step\n",
      "'########################################################fitted4\n",
      "12/12 [==============================] - 1s 8ms/step\n",
      "'########################################################fitted5\n",
      "12/12 [==============================] - 1s 8ms/step\n",
      "'########################################################fitted1\n",
      "12/12 [==============================] - 1s 8ms/step\n",
      "'########################################################fitted2\n",
      "12/12 [==============================] - 1s 8ms/step\n",
      "'########################################################fitted3\n",
      "12/12 [==============================] - 1s 8ms/step\n",
      "'########################################################fitted4\n",
      "12/12 [==============================] - 1s 8ms/step\n",
      "'########################################################fitted5\n",
      "12/12 [==============================] - 1s 8ms/step\n",
      "'########################################################fitted1\n",
      "12/12 [==============================] - 1s 8ms/step\n",
      "'########################################################fitted2\n",
      "12/12 [==============================] - 1s 8ms/step\n",
      "'########################################################fitted3\n",
      "12/12 [==============================] - 1s 8ms/step\n",
      "'########################################################fitted4\n",
      "12/12 [==============================] - 1s 8ms/step\n",
      "'########################################################fitted5\n",
      "12/12 [==============================] - 1s 8ms/step\n",
      "'########################################################fitted1\n",
      "12/12 [==============================] - 1s 8ms/step\n",
      "'########################################################fitted2\n",
      "12/12 [==============================] - 1s 8ms/step\n",
      "'########################################################fitted3\n",
      "12/12 [==============================] - 1s 13ms/step\n",
      "'########################################################fitted4\n",
      "12/12 [==============================] - 1s 8ms/step\n",
      "'########################################################fitted5\n",
      "12/12 [==============================] - 1s 9ms/step\n",
      "'########################################################fitted1\n",
      "12/12 [==============================] - 1s 11ms/step\n",
      "'########################################################fitted2\n",
      "12/12 [==============================] - 1s 13ms/step\n",
      "'########################################################fitted3\n",
      "12/12 [==============================] - 1s 13ms/step\n",
      "'########################################################fitted4\n",
      "12/12 [==============================] - 1s 8ms/step\n",
      "'########################################################fitted5\n"
     ]
    }
   ],
   "source": [
    "mape_pred = transfer_(num,mape_models,True, 'mape',2000,8,10,0.0001)\n",
    "mase_pred = transfer_(num,mase_models,True, MASE(target_y,y_train.shape[1]),2000,8,10,0.0001)\n",
    "smape_pred = transfer_(num,smape_models,True, SMAPE(),2000,8,10,0.0001)\n",
    "mae_pred = transfer_(num,mae_models,True, 'mae',2000,8,10,0.0001)\n",
    "mse_pred = transfer_(num,mse_models,True, 'mse',2000,8,10,0.0001)\n"
   ]
  },
  {
   "cell_type": "code",
   "execution_count": 26,
   "id": "eca183b8-2e10-4729-acea-3e36a61ac7c1",
   "metadata": {},
   "outputs": [
    {
     "data": {
      "text/plain": [
       "(0.32350841335323066, 0.22508301114734103)"
      ]
     },
     "execution_count": 26,
     "metadata": {},
     "output_type": "execute_result"
    }
   ],
   "source": [
    "concat = np.concatenate([np.array(mase_pred),np.nan_to_num(np.array(mape_pred), nan=0),np.array(smape_pred),\n",
    "                         np.nan_to_num(np.array(mae_pred), nan=0),np.nan_to_num(np.array(mse_pred), nan=0)])\n",
    "\n",
    "fin_pred = np.median(concat,axis=0)\n",
    "pd.DataFrame(fin_pred).to_csv(\"result7/NBEATs+I+transformer.csv\")\n",
    "\n",
    "np.sqrt(mean_squared_error(test_y.flatten(),fin_pred.flatten())),mean_absolute_error(test_y.flatten(),fin_pred.flatten())"
   ]
  },
  {
   "cell_type": "code",
   "execution_count": 17,
   "id": "cc0054f6-caa0-4ccb-b64e-871be6c37ced",
   "metadata": {},
   "outputs": [
    {
     "data": {
      "text/plain": [
       "(0.3243296848334324, 0.22436695743202054)"
      ]
     },
     "execution_count": 17,
     "metadata": {},
     "output_type": "execute_result"
    }
   ],
   "source": [
    "concat = np.concatenate([np.array(mase_pred),np.nan_to_num(np.array(mape_pred), nan=0),np.array(smape_pred)])\n",
    "\n",
    "fin_pred = np.median(concat,axis=0)\n",
    "\n",
    "np.sqrt(mean_squared_error(test_y.flatten(),fin_pred.flatten())),mean_absolute_error(test_y.flatten(),fin_pred.flatten())"
   ]
  },
  {
   "cell_type": "code",
   "execution_count": 27,
   "id": "bb42866c-edcd-46df-8e43-5a4b83baee34",
   "metadata": {},
   "outputs": [
    {
     "data": {
      "text/plain": [
       "(0.3240643156911852, 0.22639864730240022)"
      ]
     },
     "execution_count": 27,
     "metadata": {},
     "output_type": "execute_result"
    }
   ],
   "source": [
    "concat = np.concatenate([np.array(mase_pred),\n",
    "                         np.nan_to_num(np.array(mae_pred), nan=0),np.nan_to_num(np.array(mse_pred), nan=0)])\n",
    "\n",
    "fin_pred = np.median(concat,axis=0)\n",
    "pd.DataFrame(fin_pred).to_csv(\"best7/NBEATs+I+transformer.csv\")\n",
    "\n",
    "np.sqrt(mean_squared_error(test_y.flatten(),fin_pred.flatten())),mean_absolute_error(test_y.flatten(),fin_pred.flatten())"
   ]
  },
  {
   "cell_type": "code",
   "execution_count": 19,
   "id": "2b855baa-fa17-4275-a892-533c77c5ed41",
   "metadata": {},
   "outputs": [
    {
     "data": {
      "text/plain": [
       "(0.3246163719996183, 0.2247881810558575)"
      ]
     },
     "execution_count": 19,
     "metadata": {},
     "output_type": "execute_result"
    }
   ],
   "source": [
    "concat = np.concatenate([np.nan_to_num(np.array(mase_pred), nan=0)])\n",
    "\n",
    "fin_pred = np.median(concat,axis=0)\n",
    "\n",
    "np.sqrt(mean_squared_error(test_y.flatten(),fin_pred.flatten())),mean_absolute_error(test_y.flatten(),fin_pred.flatten())"
   ]
  },
  {
   "cell_type": "code",
   "execution_count": 20,
   "id": "bb533a7b-5326-4ad2-803d-6da64ce7fe07",
   "metadata": {},
   "outputs": [
    {
     "data": {
      "text/plain": [
       "(0.33049187587518575, 0.22959667309436052)"
      ]
     },
     "execution_count": 20,
     "metadata": {},
     "output_type": "execute_result"
    }
   ],
   "source": [
    "concat = np.concatenate([np.nan_to_num(np.array(mape_pred))])\n",
    "\n",
    "fin_pred = np.median(concat,axis=0)\n",
    "\n",
    "np.sqrt(mean_squared_error(test_y.flatten(),fin_pred.flatten())),mean_absolute_error(test_y.flatten(),fin_pred.flatten())"
   ]
  },
  {
   "cell_type": "code",
   "execution_count": 21,
   "id": "1709755a-519a-489a-a737-ad1c7d167639",
   "metadata": {},
   "outputs": [
    {
     "data": {
      "text/plain": [
       "(4.906959552521479, 2.3432893168092)"
      ]
     },
     "execution_count": 21,
     "metadata": {},
     "output_type": "execute_result"
    }
   ],
   "source": [
    "concat = np.concatenate([np.array(smape_pred)])\n",
    "\n",
    "fin_pred = np.median(concat,axis=0)\n",
    "\n",
    "np.sqrt(mean_squared_error(test_y.flatten(),fin_pred.flatten())),mean_absolute_error(test_y.flatten(),fin_pred.flatten())"
   ]
  },
  {
   "cell_type": "code",
   "execution_count": 22,
   "id": "ea6d4291-1d49-4499-9143-f2830919658b",
   "metadata": {},
   "outputs": [
    {
     "data": {
      "text/plain": [
       "(0.3309599374108153, 0.23070524127887396)"
      ]
     },
     "execution_count": 22,
     "metadata": {},
     "output_type": "execute_result"
    }
   ],
   "source": [
    "concat = np.concatenate([np.nan_to_num(np.array(mae_pred), nan=0)])\n",
    "\n",
    "fin_pred = np.median(concat,axis=0)\n",
    "\n",
    "np.sqrt(mean_squared_error(test_y.flatten(),fin_pred.flatten())),mean_absolute_error(test_y.flatten(),fin_pred.flatten())"
   ]
  },
  {
   "cell_type": "code",
   "execution_count": 23,
   "id": "4bdfe304-8810-46dd-a5f9-c12ab3b064c3",
   "metadata": {},
   "outputs": [
    {
     "data": {
      "text/plain": [
       "(0.3421910276824158, 0.24895767341290556)"
      ]
     },
     "execution_count": 23,
     "metadata": {},
     "output_type": "execute_result"
    }
   ],
   "source": [
    "concat = np.concatenate([np.nan_to_num(np.array(mse_pred), nan=0)])\n",
    "\n",
    "fin_pred = np.median(concat,axis=0)\n",
    "\n",
    "np.sqrt(mean_squared_error(test_y.flatten(),fin_pred.flatten())),mean_absolute_error(test_y.flatten(),fin_pred.flatten())"
   ]
  },
  {
   "cell_type": "code",
   "execution_count": 25,
   "id": "87086410-bd86-4094-b9da-bc72846c89f2",
   "metadata": {},
   "outputs": [
    {
     "name": "stdout",
     "output_type": "stream",
     "text": [
      "0.32338\n"
     ]
    }
   ],
   "source": [
    "concat_mase = np.concatenate([np.nan_to_num(np.array(mase_pred), nan=0)])\n",
    "fin_pred_mase = np.median(concat_mase,axis=0)\n",
    "MASE= np.sqrt(mean_squared_error(test_y.flatten(),fin_pred_mase .flatten())).round(5)\n",
    "\n",
    "concat_mape = np.concatenate([np.nan_to_num(np.array(mape_pred), nan=0)])\n",
    "fin_pred_mape = np.median(concat_mape,axis=0)\n",
    "MAPE= np.sqrt(mean_squared_error(test_y.flatten(),fin_pred_mape .flatten())).round(5)\n",
    "\n",
    "concat_smape = np.concatenate([np.nan_to_num(np.array(smape_pred), nan=0)])\n",
    "fin_pred_smape = np.median(concat_smape,axis=0)\n",
    "sMAPE= np.sqrt(mean_squared_error(test_y.flatten(),fin_pred_smape .flatten())).round(5)\n",
    "\n",
    "concat_mae = np.concatenate([np.nan_to_num(np.array(mae_pred), nan=0)])\n",
    "fin_pred_mae = np.median(concat_mae,axis=0)\n",
    "MAE= np.sqrt(mean_squared_error(test_y.flatten(),fin_pred_mae .flatten())).round(5)\n",
    "\n",
    "concat_mse = np.concatenate([np.nan_to_num(np.array(mse_pred), nan=0)])\n",
    "fin_pred_mse = np.median(concat_mse,axis=0)\n",
    "MSE= np.sqrt(mean_squared_error(test_y.flatten(),fin_pred_mse .flatten())).round(5)\n",
    "\n",
    "performance = np.array([MASE, MAPE,sMAPE,MAE,MSE])\n",
    "beta = 1  # 조정 파라미터\n",
    "weights = np.exp(-beta * performance)\n",
    "\n",
    "gd= np.concatenate([fin_pred_mase.flatten().reshape(1,-1),\n",
    "                    fin_pred_mape.flatten().reshape(1,-1),\n",
    "                   fin_pred_smape.flatten().reshape(1,-1),\n",
    "                   fin_pred_mae.flatten().reshape(1,-1),\n",
    "                   fin_pred_mse.flatten().reshape(1,-1)],axis=0)\n",
    "\n",
    "normalized_weights = weights / np.sum(weights)\n",
    "\n",
    "# 각 모델의 예측값에 가중치를 부여하여 앙상블 예측 생성\n",
    "ensemble_prediction = np.dot(normalized_weights, gd)\n",
    "pd.DataFrame(ensemble_prediction).to_csv(\"exp7/NBEATs+I+transformer.csv\")\n",
    "\n",
    "print(np.sqrt(mean_squared_error(test_y.flatten(),ensemble_prediction)).round(5))"
   ]
  }
 ],
 "metadata": {
  "kernelspec": {
   "display_name": "Python 3 (ipykernel)",
   "language": "python",
   "name": "python3"
  },
  "language_info": {
   "codemirror_mode": {
    "name": "ipython",
    "version": 3
   },
   "file_extension": ".py",
   "mimetype": "text/x-python",
   "name": "python",
   "nbconvert_exporter": "python",
   "pygments_lexer": "ipython3",
   "version": "3.10.13"
  }
 },
 "nbformat": 4,
 "nbformat_minor": 5
}
