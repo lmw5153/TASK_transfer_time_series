{
 "cells": [
  {
   "cell_type": "code",
   "execution_count": 2,
   "id": "36219c26-5413-45a2-bba8-4d1037211348",
   "metadata": {},
   "outputs": [
    {
     "data": {
      "text/plain": [
       "((750, 168), (250, 168), (750, 24), (250, 24))"
      ]
     },
     "execution_count": 2,
     "metadata": {},
     "output_type": "execute_result"
    }
   ],
   "source": [
    "target_X.shape,test_X.shape,target_y.shape,test_y.shape\n"
   ]
  },
  {
   "cell_type": "code",
   "execution_count": 17,
   "id": "1f1536c7-092d-4102-9dac-ae775f4de75c",
   "metadata": {},
   "outputs": [
    {
     "data": {
      "text/plain": [
       "(10000, 168)"
      ]
     },
     "execution_count": 17,
     "metadata": {},
     "output_type": "execute_result"
    }
   ],
   "source": [
    "X_train.shape"
   ]
  },
  {
   "cell_type": "code",
   "execution_count": 1,
   "id": "7ebab801-077c-43dc-9f56-b335c1d5fcae",
   "metadata": {},
   "outputs": [
    {
     "name": "stderr",
     "output_type": "stream",
     "text": [
      "2024-10-04 18:32:11.417161: I tensorflow/core/platform/cpu_feature_guard.cc:193] This TensorFlow binary is optimized with oneAPI Deep Neural Network Library (oneDNN) to use the following CPU instructions in performance-critical operations:  AVX2 FMA\n",
      "To enable them in other operations, rebuild TensorFlow with the appropriate compiler flags.\n",
      "2024-10-04 18:32:11.493137: W tensorflow/compiler/xla/stream_executor/platform/default/dso_loader.cc:64] Could not load dynamic library 'libcudart.so.11.0'; dlerror: libcudart.so.11.0: cannot open shared object file: No such file or directory\n",
      "2024-10-04 18:32:11.493157: I tensorflow/compiler/xla/stream_executor/cuda/cudart_stub.cc:29] Ignore above cudart dlerror if you do not have a GPU set up on your machine.\n",
      "2024-10-04 18:32:11.907747: W tensorflow/compiler/xla/stream_executor/platform/default/dso_loader.cc:64] Could not load dynamic library 'libnvinfer.so.7'; dlerror: libnvinfer.so.7: cannot open shared object file: No such file or directory\n",
      "2024-10-04 18:32:11.907802: W tensorflow/compiler/xla/stream_executor/platform/default/dso_loader.cc:64] Could not load dynamic library 'libnvinfer_plugin.so.7'; dlerror: libnvinfer_plugin.so.7: cannot open shared object file: No such file or directory\n",
      "2024-10-04 18:32:11.907808: W tensorflow/compiler/tf2tensorrt/utils/py_utils.cc:38] TF-TRT Warning: Cannot dlopen some TensorRT libraries. If you would like to use Nvidia GPU with TensorRT, please make sure the missing libraries mentioned above are installed properly.\n"
     ]
    }
   ],
   "source": [
    "import numpy as np\n",
    "import pandas as pd\n",
    "import matplotlib.pyplot as plt\n",
    "from nbeats_keras.model import NBeatsNet as NBeatsKeras\n",
    "from tensorflow.keras import backend as K\n",
    "from tensorflow.keras.callbacks import EarlyStopping, ModelCheckpoint\n",
    "#from nbeats_pytorch.model import NBeatsNet as NBeatsPytorch\n",
    "from keras.optimizers import RMSprop, Adam\n",
    "import time\n",
    "from keras.models import load_model\n",
    "#from target_data_electronic70_7 import target_X, target_y ,test_X, test_y\n",
    "#from m4databasis21_7 import base_domain,zt_in,zt_out,M4Meta,inputsize,train_12,train_12_y\n",
    "from sklearn.metrics import mean_squared_error,mean_absolute_error,mean_absolute_percentage_error,r2_score\n",
    "from tensorflow.keras.losses import Loss\n",
    "import tensorflow as tf\n",
    "#from m4databasis35_7_70_7 import train_35,train_35_y,train_70,train_70_y\n",
    "from tensorflow.keras import layers\n",
    "from tensorflow.keras.models import Model\n",
    "from tensorflow.keras.layers import Input, Dense, LayerNormalization, MultiHeadAttention, Dropout, Add, Concatenate,Flatten,Reshape\n",
    "#import pandas as pd\n",
    "from keras.utils import custom_object_scope\n",
    "\n",
    "#####################################################################################\n",
    "X_train = pd.read_csv(\"../data/dtw_m4train.csv\").iloc[:,(1):].values\n",
    "y_train = pd.read_csv(\"../data/dtw_m4test.csv\").iloc[:,1:].values\n",
    "X_train.shape[1], y_train.shape[1]\n",
    "\n",
    "target_X= pd.read_csv(\"../data/solor_train_input_7.csv\").iloc[:,(1):].values\n",
    "target_y =pd.read_csv(\"../data/solor_train_output_7.csv\").iloc[:,1:].values\n",
    "test_X= pd.read_csv(\"../data/solor_val_input_7.csv\").iloc[:,(1):].values\n",
    "test_y =pd.read_csv(\"../data/solor_val_output_7.csv\").iloc[:,1:].values\n",
    "\n",
    "target_X.shape,test_X.shape\n",
    "#################################################################################\n",
    "# loss SMAPE\n",
    "class SMAPE(Loss):\n",
    "    def call(self, y_true, y_pred):\n",
    "        y_pred = tf.reshape(y_pred, tf.shape(y_true))  # 예측 값의 차원을 맞춤\n",
    "       # y_pred=tf.clip_by_value(y_pred, 1e-10, tf.reduce_max(y_pred))\n",
    "       # y_true = tf.clip_by_value(y_true, 1e-10, tf.reduce_max(y_true))\n",
    "        \n",
    "        numerator = 100 * tf.abs(y_true- y_pred )\n",
    "        denominator =  (tf.abs(y_true ) + tf.abs(y_pred))/2\n",
    "        smape =  numerator /  denominator #tf.clip_by_value(denominator, 1e-10, tf.reduce_max(denominator))\n",
    "        return tf.reduce_mean(smape)\n",
    "\n",
    "#################################################################################\n",
    "# loss MASE\n",
    "class MASE(Loss):\n",
    "    def __init__(self, training_data, period, *args, **kwargs):\n",
    "        super().__init__(*args, **kwargs)\n",
    "        self.scale = self.calculate_scale(training_data, period)\n",
    "    def seasonal_diff(data, period):\n",
    "        return data[period:] - data[:-period]\n",
    "\n",
    "    def calculate_scale(self, training_data, period):\n",
    "        # 주기 차분 계산\n",
    "        diff = seasonal_diff(training_data, period)\n",
    "        scale = np.mean(np.abs(diff))\n",
    "        return scale\n",
    "    \n",
    "    def call(self, y_true, y_pred):\n",
    "        y_pred = tf.reshape(y_pred, tf.shape(y_true))  # 차원 맞추기\n",
    "        error = tf.abs(y_true - y_pred)\n",
    "        return tf.reduce_mean(error / self.scale)\n",
    "\n",
    "def seasonal_diff(data, period):\n",
    "    return data[period:] - data[:-period]\n",
    "\n",
    "#################################################################################\n",
    "#################################################################################\n",
    "# 하이퍼파라미터 인자 설정\n",
    "def hyperparameter():\n",
    "    # 1 backcast\n",
    "    # 2 forecast\n",
    "    # 3 inputdim\n",
    "    # 4 outputdim\n",
    "    # 5 unit\n",
    "    # 6 bacth size\n",
    "    return X_train.shape[1], y_train.shape[1],1,1,128\n",
    "\n",
    "#################################################################################\n",
    "# nbeats + I모델 생성 함수\n",
    "def bulid_model(backcast_,forecast_,input_dim,output_dim,unit):\n",
    "    model= NBeatsKeras(backcast_length=backcast_, \n",
    "                       forecast_length=forecast_,\n",
    "                       input_dim=input_dim,\n",
    "                       output_dim=output_dim,\n",
    "                       stack_types=(NBeatsKeras.TREND_BLOCK,\n",
    "                                    NBeatsKeras.TREND_BLOCK,\n",
    "                                    NBeatsKeras.TREND_BLOCK,\n",
    "                                    NBeatsKeras.SEASONALITY_BLOCK,\n",
    "                                    NBeatsKeras.SEASONALITY_BLOCK,\n",
    "                                    NBeatsKeras.SEASONALITY_BLOCK)\n",
    "                   ,nb_blocks_per_stack=1, thetas_dim=(1,2,2,4,4,4),\n",
    "                   share_weights_in_stack=False, hidden_layer_units=unit)\n",
    "    return model \n",
    "#################################################################################\n",
    "# nbeats + G모델 생성 함수    \n",
    "def bulid_model_G(backcast_,forecast_,input_dim,output_dim,unit):\n",
    "    model= NBeatsKeras(backcast_length=backcast_, \n",
    "                       forecast_length=forecast_,\n",
    "                       input_dim=input_dim,\n",
    "                       output_dim=output_dim,\n",
    "                       stack_types=(NBeatsKeras.GENERIC_BLOCK,NBeatsKeras.GENERIC_BLOCK)\n",
    "                   ,nb_blocks_per_stack=5, thetas_dim=(4,4),\n",
    "                   share_weights_in_stack=False, hidden_layer_units=unit)\n",
    "    return model \n",
    "#################################################################################\n",
    "# nbeats + I모델 부트스트랩 샘플링 배깅\n",
    "\n",
    "def train_bagging_models(num_models, loss_fn , epochs_, patience_,batch_size_,lr):\n",
    "    models = {}\n",
    "    backcast,forecast,in_dim,out_dim,unit = hyperparameter()\n",
    "    historys = []\n",
    "    for n in range(num_models):\n",
    "        K.clear_session()\n",
    "        model = bulid_model(backcast,forecast,in_dim,out_dim,unit)\n",
    "       # model.set_weights(pretrained_weights)  # 전이 학습 가중치 적용\n",
    "        optimizer = Adam(learning_rate=lr)\n",
    "        model.compile(optimizer=optimizer , loss=loss_fn)\n",
    "        \n",
    "        # 부트스트랩 샘플링\n",
    "        select = np.random.choice(len(X_train), size=len(X_train), replace=True)\n",
    "        X_bootstrap = X_train[select]\n",
    "        y_bootstrap = y_train[select]\n",
    "        early_stop = EarlyStopping(monitor='val_loss', patience = patience_, verbose = 0, restore_best_weights=True)\n",
    "        history = model.fit(X_bootstrap, y_bootstrap, batch_size = batch_size_,\n",
    "                  epochs=epochs_, verbose=0, \n",
    "                  callbacks=[early_stop],\n",
    "                 validation_split = 0.2)\n",
    "        models[f'model_{n+1}'] = model\n",
    "        historys.append(history)\n",
    "        #models.append(model)\n",
    "        print(f\"'########################################################Model{n}\")\n",
    "    return models,historys\n",
    "#################################################################################\n",
    "# nbeats + I모델 부트스트랩 샘플링 배깅\n",
    "\n",
    "def train_bagging_models_G(num_models, loss_fn , epochs_, patience_,batch_size_,lr):\n",
    "    models = {}\n",
    "    backcast,forecast,in_dim,out_dim,unit = hyperparameter()\n",
    "    historys = []\n",
    "    for n in range(num_models):\n",
    "        K.clear_session()\n",
    "        model = bulid_model_G(backcast,forecast,in_dim,out_dim,unit)\n",
    "       # model.set_weights(pretrained_weights)  # 전이 학습 가중치 적용\n",
    "        optimizer = Adam(learning_rate=lr)\n",
    "        model.compile(optimizer=optimizer , loss=loss_fn)\n",
    "        \n",
    "        # 부트스트랩 샘플링\n",
    "        select = np.random.choice(len(X_train), size=len(X_train), replace=True)\n",
    "        X_bootstrap = X_train[select]\n",
    "        y_bootstrap = y_train[select]\n",
    "        early_stop = EarlyStopping(monitor='val_loss', patience = patience_, restore_best_weights=True)\n",
    "        history = model.fit(X_bootstrap, y_bootstrap, batch_size = batch_size_,\n",
    "                  epochs=epochs_, verbose=0, \n",
    "                  callbacks=[early_stop],\n",
    "                 validation_split = 0.2)\n",
    "        models[f'model_{n+1}'] = model\n",
    "        historys.append(history)\n",
    "        #models.append(model)\n",
    "        print(f\"'########################################################Model{n}\")\n",
    "    return models,historys\n",
    "\n",
    "#################################################################################\n",
    "##########################################################################################\n",
    "# 트랜스퍼 레이어\n",
    "class PositionalEncoding(layers.Layer):\n",
    "    def __init__(self, d_model, dropout=0.1, max_len=5000):\n",
    "        super(PositionalEncoding, self).__init__()\n",
    "        self.dropout = layers.Dropout(rate=dropout)\n",
    "\n",
    "        position = np.arange(max_len)[:, np.newaxis]\n",
    "        div_term = np.exp(np.arange(0, d_model, 2) * (-np.log(10000.0) / d_model))\n",
    "        pe = np.zeros((max_len, d_model))\n",
    "        pe[:, 0::2] = np.sin(position * div_term)\n",
    "        pe[:, 1::2] = np.cos(position * div_term)\n",
    "        pe = pe[np.newaxis, ...]\n",
    "\n",
    "        self.pe = tf.constant(pe, dtype=tf.float32)\n",
    "\n",
    "    def call(self, x):\n",
    "        x = x + self.pe[:, :tf.shape(x)[1], :]\n",
    "        return self.dropout(x)\n",
    "##########################################################################################\n",
    "# 트랜스퍼 레이어\n",
    "def create_model(fn,d_model, nlayers, nhead, dropout, iw, ow,lr,pretrained_output_reshaped,inputs):\n",
    "    \n",
    "    \n",
    "    x = layers.Dense(d_model // 2, activation='relu')(pretrained_output_reshaped)\n",
    "    x = layers.Dense(d_model, activation='relu')(x)\n",
    "    \n",
    "    pos_encoding = PositionalEncoding(d_model, dropout)\n",
    "    x = pos_encoding(x)\n",
    "    \n",
    "    for _ in range(nlayers):\n",
    "        attn_output = layers.MultiHeadAttention(num_heads=nhead, key_dim=d_model, dropout=dropout)(x, x)\n",
    "        x = layers.LayerNormalization(epsilon=1e-6)(x + attn_output)\n",
    "        ffn_output = layers.Dense(d_model, activation='relu')(x)\n",
    "        ffn_output = layers.Dense(d_model)(ffn_output)\n",
    "        x = layers.LayerNormalization(epsilon=1e-6)(x + ffn_output)\n",
    "    \n",
    "    x = layers.Dense(d_model // 2, activation='relu')(x)\n",
    "    x = layers.Dense(1)(x)\n",
    "    x = tf.squeeze(x, axis=-1)\n",
    "    \n",
    "    outputs = layers.Dense((iw + ow) // 2, activation='relu')(x)\n",
    "    outputs = layers.Dense(ow)(outputs)\n",
    "    \n",
    "    optimizer = Adam(learning_rate=lr)\n",
    "    target_model = Model(inputs=inputs, outputs=outputs)\n",
    "    target_model.compile(optimizer=optimizer, loss=fn)\n",
    "    \n",
    "    return target_model\n",
    "########################################################################################################################\n",
    "def transfer_(model_num,models,trainable,\n",
    "              lossf,epochs_,batch_size_,pt,lr_):\n",
    "    #model_mapes_G = {}\n",
    "    #history_mapes_G = []\n",
    "    model_pred = []\n",
    "    for i in range(1, model_num+1):\n",
    "        K.clear_session()\n",
    "        model_name = f'model_{i}'\n",
    "        m,_ = models#[model_name]\n",
    "        model1= m[model_name]\n",
    "        # 모든 레이어를 학습 불가능하게 설정\n",
    "        for layer in model1.layers[:-1]:  # 새로운 레이어 추가된 부분은 학습 가능하도록 설정\n",
    "            layer.trainable = True\n",
    "        pretrained_layers = model1.layers[:-1]\n",
    "        \n",
    "        pretrained_model = Model(inputs=model1.input, outputs=pretrained_layers[-1].output)\n",
    "        \n",
    "        inputs = Input(shape=(X_train.shape[1], 1))\n",
    "        pretrained_output = pretrained_model(inputs)\n",
    "        normalized_output = layers.BatchNormalization()(pretrained_output)\n",
    "\n",
    "        pretrained_output_reshaped = layers.Reshape((y_train.shape[1], -1))(normalized_output)\n",
    "            \n",
    "        model_instance = create_model(lossf ,d_model=64, nlayers=1,nhead=4, dropout=0.1, iw=X_train.shape[1], ow=y_train.shape[1],lr=lr_\n",
    "                                      ,pretrained_output_reshaped=pretrained_output_reshaped,inputs=inputs)\n",
    "        early_stop = EarlyStopping(monitor='val_loss', patience=pt, verbose=0, restore_best_weights=True)\n",
    "    \n",
    "        history = model_instance.fit(target_X, target_y, batch_size = batch_size_,\n",
    "                      epochs=epochs_, verbose=0, \n",
    "                      callbacks=[early_stop],\n",
    "                     validation_split = 0.2)\n",
    "        pred = model_instance.predict(test_X)\n",
    "        pred = pred.reshape(-1,y_train.shape[1])\n",
    "        model_pred.append(pred)\n",
    "        #history_mapes_G.append(history)\n",
    "        #model_mapes_G[f'model_{i}'] =model_instance\n",
    "        #del model_instance\n",
    "        print(f\"'########################################################fitted{i}\")\n",
    "    return model_pred\n",
    "\n",
    "def transfer_save(model_num, model_paths, trainable, lossf, epochs_, batch_size_, pt, lr_):\n",
    "    history_mapes_G = []\n",
    "    model_pred = []\n",
    "    model_path = model_paths\n",
    "    for i in range(1, model_num + 1):\n",
    "        K.clear_session()\n",
    "        \n",
    "        # 저장된 모델 경로에서 모델 불러오기\n",
    "        #model_path = model_paths[i - 1]  # 각 모델의 경로를 리스트로 받아 처리\n",
    "        #model_paths = model_path #+ f'_model_G_{i}.h5'\n",
    "        model1 = load_model(model_path+ f'_model_G_{i}.h5')  # 저장된 모델 불러오기\n",
    "        print(f\"{model_path}_model_G_{i}.h5\")\n",
    "        \n",
    "        # 모든 레이어를 학습 불가능하게 설정 (필요한 경우)\n",
    "        for layer in model1.layers[:-1]:  # 마지막 레이어를 제외하고 학습 가능 여부 설정\n",
    "            layer.trainable = True\n",
    "        \n",
    "        pretrained_layers = model1.layers[:-1]\n",
    "        \n",
    "        # 전이 학습을 위한 새로운 입력과 모델 구성\n",
    "        pretrained_model = Model(inputs=model1.input, outputs=pretrained_layers[-1].output)\n",
    "        inputs = Input(shape=(X_train.shape[1], 1))\n",
    "        pretrained_output = pretrained_model(inputs)\n",
    "        pretrained_output_reshaped = layers.Reshape((y_train.shape[1], -1))(pretrained_output)\n",
    "        \n",
    "        # 새로운 모델 생성 및 전이 학습\n",
    "        model_instance = create_model(\n",
    "            lossf, d_model=64, nlayers=1, nhead=40, dropout=0.1, iw=X_train.shape[1], \n",
    "            ow=y_train.shape[1], lr=lr_, pretrained_output_reshaped=pretrained_output_reshaped, inputs=inputs\n",
    "        )\n",
    "        \n",
    "        early_stop = EarlyStopping(monitor='val_loss', patience=pt, verbose=0, restore_best_weights=True)\n",
    "    \n",
    "        history = model_instance.fit(\n",
    "            target_X, target_y, batch_size=batch_size_, epochs=epochs_, verbose=0,\n",
    "            callbacks=[early_stop], validation_split=0.2\n",
    "        )\n",
    "        \n",
    "        pred = model_instance.predict(test_X)\n",
    "        pred = pred.reshape(-1, y_train.shape[1])\n",
    "        model_pred.append(pred)\n",
    "        history_mapes_G.append(history)\n",
    "        \n",
    "        print(f\"######################################################## fitted {i}\")\n",
    "    \n",
    "    return model_pred\n",
    "\n",
    "def transfer_SMAPE(model_num, model_paths, trainable, lossf, epochs_, batch_size_, pt, lr_):\n",
    "    history_mapes_G = []\n",
    "    model_pred = []\n",
    "    model_path = model_paths\n",
    "    \n",
    "    for i in range(1, model_num + 1):\n",
    "        K.clear_session()\n",
    "        \n",
    "        with custom_object_scope({'SMAPE': SMAPE}):  # SMAPE 등록\n",
    "            model1 = load_model(model_path + f'_model_G_{i}.h5')  # 저장된 모델 불러오기\n",
    "        \n",
    "        print(f\"{model_path}_model_G_{i}.h5\")\n",
    "        \n",
    "        # 모든 레이어를 학습 불가능하게 설정 (필요한 경우)\n",
    "        for layer in model1.layers[:-1]:  # 마지막 레이어를 제외하고 학습 가능 여부 설정\n",
    "            layer.trainable = True\n",
    "        \n",
    "        pretrained_layers = model1.layers[:-1]\n",
    "        \n",
    "        # 전이 학습을 위한 새로운 입력과 모델 구성\n",
    "        pretrained_model = Model(inputs=model1.input, outputs=pretrained_layers[-1].output)\n",
    "        inputs = Input(shape=(X_train.shape[1], 1))\n",
    "        pretrained_output = pretrained_model(inputs)\n",
    "        pretrained_output_reshaped = layers.Reshape((y_train.shape[1], -1))(pretrained_output)\n",
    "        \n",
    "        # 새로운 모델 생성 및 전이 학습\n",
    "        model_instance = create_model(\n",
    "            lossf, d_model=64, nlayers=1, nhead=10, dropout=0.1, iw=X_train.shape[1], \n",
    "            ow=y_train.shape[1], lr=lr_, pretrained_output_reshaped=pretrained_output_reshaped, inputs=inputs\n",
    "        )\n",
    "        \n",
    "        early_stop = EarlyStopping(monitor='val_loss', patience=pt, verbose=0, restore_best_weights=True)\n",
    "    \n",
    "        history = model_instance.fit(\n",
    "            target_X, target_y, batch_size=batch_size_, epochs=epochs_, verbose=0,\n",
    "            callbacks=[early_stop], validation_split=0.2\n",
    "        )\n",
    "        \n",
    "        pred = model_instance.predict(test_X)\n",
    "        pred = pred.reshape(-1, y_train.shape[1])\n",
    "        model_pred.append(pred)\n",
    "        history_mapes_G.append(history)\n",
    "        \n",
    "        print(f\"######################################################## fitted {i}\")\n",
    "    \n",
    "    return model_pred\n",
    "#################################################################################\n",
    "# 예측\n",
    "\n",
    "def bagging_predict(models, X):\n",
    "    predictions = np.array([model.predict(X) for model in models.values()])\n",
    "    return np.median(predictions, axis=0)\n",
    "\n",
    "def bagging_predict2(models, X):\n",
    "    predictions = np.array([model.predict(X) for model in models.values()])\n",
    "    return predictions"
   ]
  },
  {
   "cell_type": "code",
   "execution_count": 23,
   "id": "a27e2cd6-1f6f-4c32-94ef-a199729c9e9d",
   "metadata": {
    "scrolled": true
   },
   "outputs": [
    {
     "name": "stdout",
     "output_type": "stream",
     "text": [
      "'########################################################Model0\n",
      "'########################################################Model1\n",
      "'########################################################Model2\n",
      "'########################################################Model3\n",
      "'########################################################Model4\n",
      "'########################################################Model5\n",
      "'########################################################Model6\n",
      "'########################################################Model7\n",
      "'########################################################Model8\n",
      "'########################################################Model9\n",
      "12/12 [==============================] - 1s 5ms/step\n",
      "'########################################################fitted1\n",
      "12/12 [==============================] - 1s 7ms/step\n",
      "'########################################################fitted2\n",
      "12/12 [==============================] - 1s 7ms/step\n",
      "'########################################################fitted3\n",
      "12/12 [==============================] - 1s 6ms/step\n",
      "'########################################################fitted4\n",
      "12/12 [==============================] - 1s 6ms/step\n",
      "'########################################################fitted5\n",
      "12/12 [==============================] - 1s 5ms/step\n",
      "'########################################################fitted6\n",
      "12/12 [==============================] - 1s 7ms/step\n",
      "'########################################################fitted7\n",
      "12/12 [==============================] - 0s 5ms/step\n",
      "'########################################################fitted8\n",
      "12/12 [==============================] - 0s 6ms/step\n",
      "'########################################################fitted9\n",
      "12/12 [==============================] - 0s 6ms/step\n",
      "'########################################################fitted10\n"
     ]
    }
   ],
   "source": [
    "#mape_models = train_bagging_models_G(10,'mape',100,10,1024,0.001)\n",
    "#smape_models = train_bagging_models_G(10,SMAPE(),100,10,1024,0.001)\n",
    "#mase_models = train_bagging_models_G(10,MASE(y_train,y_train.shape[1]),100,10,1024,0.001)\n",
    "#mase_pred = transfer_(10,mase_models,True, MASE(target_y,y_train.shape[1]),2000,8,30,0.0001)\n",
    "mae_models = train_bagging_models_G(10,'mae',100,10,512,0.001)\n",
    "mae_pred = transfer_(10,mae_models,True, 'mae',300,8,10,0.001)"
   ]
  },
  {
   "cell_type": "code",
   "execution_count": 2,
   "id": "d0574cf8-8fdc-4c23-be47-7bfb89881baa",
   "metadata": {
    "scrolled": true
   },
   "outputs": [
    {
     "name": "stderr",
     "output_type": "stream",
     "text": [
      "2024-10-04 18:34:22.768645: E tensorflow/compiler/xla/stream_executor/cuda/cuda_driver.cc:267] failed call to cuInit: CUDA_ERROR_NO_DEVICE: no CUDA-capable device is detected\n",
      "2024-10-04 18:34:22.768680: I tensorflow/compiler/xla/stream_executor/cuda/cuda_diagnostics.cc:156] kernel driver does not appear to be running on this host (ymlee2-desktop): /proc/driver/nvidia/version does not exist\n",
      "2024-10-04 18:34:22.769125: I tensorflow/core/platform/cpu_feature_guard.cc:193] This TensorFlow binary is optimized with oneAPI Deep Neural Network Library (oneDNN) to use the following CPU instructions in performance-critical operations:  AVX2 FMA\n",
      "To enable them in other operations, rebuild TensorFlow with the appropriate compiler flags.\n"
     ]
    },
    {
     "name": "stdout",
     "output_type": "stream",
     "text": [
      "1004save_median/mape_models_G/mape_model_G_1.h5\n",
      "12/12 [==============================] - 1s 41ms/step\n",
      "######################################################## fitted 1\n",
      "1004save_median/mape_models_G/mape_model_G_2.h5\n",
      "12/12 [==============================] - 1s 39ms/step\n",
      "######################################################## fitted 2\n",
      "1004save_median/mape_models_G/mape_model_G_3.h5\n",
      "12/12 [==============================] - 1s 25ms/step\n",
      "######################################################## fitted 3\n",
      "1004save_median/mape_models_G/mape_model_G_4.h5\n",
      "12/12 [==============================] - 1s 25ms/step\n",
      "######################################################## fitted 4\n",
      "1004save_median/mape_models_G/mape_model_G_5.h5\n",
      "12/12 [==============================] - 1s 20ms/step\n",
      "######################################################## fitted 5\n",
      "1004save_median/mape_models_G/mape_model_G_6.h5\n",
      "12/12 [==============================] - 1s 29ms/step\n",
      "######################################################## fitted 6\n",
      "1004save_median/mape_models_G/mape_model_G_7.h5\n",
      "12/12 [==============================] - 1s 26ms/step\n",
      "######################################################## fitted 7\n",
      "1004save_median/mape_models_G/mape_model_G_8.h5\n",
      "12/12 [==============================] - 1s 26ms/step\n",
      "######################################################## fitted 8\n",
      "1004save_median/mape_models_G/mape_model_G_9.h5\n",
      "12/12 [==============================] - 1s 26ms/step\n",
      "######################################################## fitted 9\n",
      "1004save_median/mape_models_G/mape_model_G_10.h5\n",
      "12/12 [==============================] - 1s 31ms/step\n",
      "######################################################## fitted 10\n",
      "1004save_median/mse_models_G/mse_model_G_1.h5\n",
      "12/12 [==============================] - 1s 30ms/step\n",
      "######################################################## fitted 1\n",
      "1004save_median/mse_models_G/mse_model_G_2.h5\n",
      "12/12 [==============================] - 1s 30ms/step\n",
      "######################################################## fitted 2\n",
      "1004save_median/mse_models_G/mse_model_G_3.h5\n",
      "12/12 [==============================] - 1s 31ms/step\n",
      "######################################################## fitted 3\n",
      "1004save_median/mse_models_G/mse_model_G_4.h5\n",
      "12/12 [==============================] - 1s 31ms/step\n",
      "######################################################## fitted 4\n",
      "1004save_median/mse_models_G/mse_model_G_5.h5\n",
      "12/12 [==============================] - 1s 31ms/step\n",
      "######################################################## fitted 5\n",
      "1004save_median/mse_models_G/mse_model_G_6.h5\n",
      "12/12 [==============================] - 1s 25ms/step\n",
      "######################################################## fitted 6\n",
      "1004save_median/mse_models_G/mse_model_G_7.h5\n",
      "12/12 [==============================] - 1s 23ms/step\n",
      "######################################################## fitted 7\n",
      "1004save_median/mse_models_G/mse_model_G_8.h5\n",
      "12/12 [==============================] - 1s 32ms/step\n",
      "######################################################## fitted 8\n",
      "1004save_median/mse_models_G/mse_model_G_9.h5\n",
      "12/12 [==============================] - 1s 25ms/step\n",
      "######################################################## fitted 9\n",
      "1004save_median/mse_models_G/mse_model_G_10.h5\n",
      "12/12 [==============================] - 1s 34ms/step\n",
      "######################################################## fitted 10\n",
      "1004save_median/smape_models_G/smape_model_G_1.h5\n",
      "12/12 [==============================] - 1s 9ms/step\n",
      "######################################################## fitted 1\n",
      "1004save_median/smape_models_G/smape_model_G_2.h5\n",
      "12/12 [==============================] - 1s 11ms/step\n",
      "######################################################## fitted 2\n",
      "1004save_median/smape_models_G/smape_model_G_3.h5\n",
      "12/12 [==============================] - 1s 10ms/step\n",
      "######################################################## fitted 3\n",
      "1004save_median/smape_models_G/smape_model_G_4.h5\n",
      "12/12 [==============================] - 0s 8ms/step\n",
      "######################################################## fitted 4\n",
      "1004save_median/smape_models_G/smape_model_G_5.h5\n",
      "12/12 [==============================] - 1s 9ms/step\n",
      "######################################################## fitted 5\n",
      "1004save_median/smape_models_G/smape_model_G_6.h5\n",
      "12/12 [==============================] - 1s 13ms/step\n",
      "######################################################## fitted 6\n",
      "1004save_median/smape_models_G/smape_model_G_7.h5\n",
      "12/12 [==============================] - 1s 9ms/step\n",
      "######################################################## fitted 7\n",
      "1004save_median/smape_models_G/smape_model_G_8.h5\n",
      "12/12 [==============================] - 1s 10ms/step\n",
      "######################################################## fitted 8\n",
      "1004save_median/smape_models_G/smape_model_G_9.h5\n",
      "12/12 [==============================] - 0s 7ms/step\n",
      "######################################################## fitted 9\n",
      "1004save_median/smape_models_G/smape_model_G_10.h5\n",
      "12/12 [==============================] - 1s 10ms/step\n",
      "######################################################## fitted 10\n"
     ]
    }
   ],
   "source": [
    "mape_pred = transfer_save(10,'1004save_median/mape_models_G/mape',True, 'mape',2000,8,10,0.001)\n",
    "#mae_pred = transfer_save(10,'../mae_models_G/mae',True, 'mae',2000,8,30,0.0001)\n",
    "mse_pred = transfer_save(10,'1004save_median/mse_models_G/mse',True, 'mse',2000,8,10,0.001)\n",
    "smape_pred = transfer_SMAPE(10,'1004save_median/smape_models_G/smape',True, SMAPE(),2000,8,30,0.001)\n"
   ]
  },
  {
   "cell_type": "code",
   "execution_count": 26,
   "id": "a31b5db9-e19d-47ac-8b52-3738633a0d68",
   "metadata": {},
   "outputs": [
    {
     "name": "stdout",
     "output_type": "stream",
     "text": [
      "'########################################################Model0\n",
      "'########################################################Model1\n",
      "'########################################################Model2\n",
      "'########################################################Model3\n",
      "'########################################################Model4\n",
      "'########################################################Model5\n",
      "'########################################################Model6\n",
      "'########################################################Model7\n",
      "'########################################################Model8\n",
      "'########################################################Model9\n",
      "12/12 [==============================] - 1s 7ms/step\n",
      "'########################################################fitted1\n",
      "12/12 [==============================] - 1s 7ms/step\n",
      "'########################################################fitted2\n",
      "12/12 [==============================] - 1s 8ms/step\n",
      "'########################################################fitted3\n",
      "12/12 [==============================] - 1s 7ms/step\n",
      "'########################################################fitted4\n",
      "12/12 [==============================] - 1s 6ms/step\n",
      "'########################################################fitted5\n",
      "12/12 [==============================] - 1s 7ms/step\n",
      "'########################################################fitted6\n",
      "12/12 [==============================] - 0s 4ms/step\n",
      "'########################################################fitted7\n",
      "12/12 [==============================] - 0s 6ms/step\n",
      "'########################################################fitted8\n",
      "12/12 [==============================] - 0s 5ms/step\n",
      "'########################################################fitted9\n",
      "12/12 [==============================] - 0s 5ms/step\n",
      "'########################################################fitted10\n"
     ]
    }
   ],
   "source": [
    "mase_models = train_bagging_models_G(10,MASE(y_train,y_train.shape[1]),100,10,512,0.001)\n",
    "mase_pred = transfer_(10,mae_models,True, MASE(y_train,y_train.shape[1]),300,8,10,0.001)"
   ]
  },
  {
   "cell_type": "code",
   "execution_count": 16,
   "id": "29e3f5fe-0cda-4654-baa7-3a22d143fc5f",
   "metadata": {},
   "outputs": [
    {
     "data": {
      "text/plain": [
       "0.21527031778299985"
      ]
     },
     "execution_count": 16,
     "metadata": {},
     "output_type": "execute_result"
    }
   ],
   "source": [
    "mean_squared_error(test_y.flatten(),fin_pred_G.flatten())"
   ]
  },
  {
   "cell_type": "code",
   "execution_count": 28,
   "id": "0e89458d-1f8e-455b-8ecd-ebd43b9db916",
   "metadata": {},
   "outputs": [
    {
     "data": {
      "text/plain": [
       "(0.464657963505086, 0.2419885336987663)"
      ]
     },
     "execution_count": 28,
     "metadata": {},
     "output_type": "execute_result"
    }
   ],
   "source": [
    "concat_G = np.concatenate([np.array(mse_pred),np.array(smape_pred),np.array(mape_pred),np.array(mae_pred),np.array(mase_pred)])\n",
    "\n",
    "fin_pred_G = np.median(concat_G,axis=0)\n",
    "\n",
    "np.sqrt(mean_squared_error(test_y.flatten(),fin_pred_G.flatten())),mean_absolute_error(test_y.flatten(),fin_pred_G.flatten())"
   ]
  },
  {
   "cell_type": "code",
   "execution_count": 29,
   "id": "9bdd736a-cedb-447c-9634-c19caa462e90",
   "metadata": {},
   "outputs": [
    {
     "data": {
      "text/plain": [
       "(0.4691051185219529, 0.2413114108978863)"
      ]
     },
     "execution_count": 29,
     "metadata": {},
     "output_type": "execute_result"
    }
   ],
   "source": [
    "concat_G = np.concatenate([np.array(mase_pred),np.array(smape_pred),np.array(mape_pred)])\n",
    "\n",
    "fin_pred_G = np.median(concat_G,axis=0)\n",
    "\n",
    "np.sqrt(mean_squared_error(test_y.flatten(),fin_pred_G.flatten())),mean_absolute_error(test_y.flatten(),fin_pred_G.flatten())"
   ]
  },
  {
   "cell_type": "code",
   "execution_count": 30,
   "id": "93d110be-4853-42f5-bc6b-0c149e5feb26",
   "metadata": {},
   "outputs": [
    {
     "data": {
      "text/plain": [
       "(0.4663333599087484, 0.242729598499933)"
      ]
     },
     "execution_count": 30,
     "metadata": {},
     "output_type": "execute_result"
    }
   ],
   "source": [
    "concat_G = np.concatenate([np.array(mase_pred),np.array(mae_pred),np.array(mse_pred)])\n",
    "\n",
    "fin_pred_G = np.median(concat_G,axis=0)\n",
    "\n",
    "np.sqrt(mean_squared_error(test_y.flatten(),fin_pred_G.flatten())),mean_absolute_error(test_y.flatten(),fin_pred_G.flatten())"
   ]
  },
  {
   "cell_type": "code",
   "execution_count": 12,
   "id": "ab1e3f64-00a3-4c64-a41b-920a72cbf520",
   "metadata": {},
   "outputs": [
    {
     "data": {
      "text/plain": [
       "(0.9852739733715701, 0.5294322521721441)"
      ]
     },
     "execution_count": 12,
     "metadata": {},
     "output_type": "execute_result"
    }
   ],
   "source": [
    "concat_G = np.concatenate([np.array(mape_pred)])\n",
    "\n",
    "fin_pred_G = np.median(concat_G,axis=0)\n",
    "\n",
    "np.sqrt(mean_squared_error(test_y.flatten(),fin_pred_G.flatten())),mean_absolute_error(test_y.flatten(),fin_pred_G.flatten())"
   ]
  },
  {
   "cell_type": "code",
   "execution_count": 13,
   "id": "36086c09-242b-48b1-b51b-0a4cfc261a52",
   "metadata": {},
   "outputs": [
    {
     "data": {
      "text/plain": [
       "(0.5065494113148367, 0.30585181936239275)"
      ]
     },
     "execution_count": 13,
     "metadata": {},
     "output_type": "execute_result"
    }
   ],
   "source": [
    "concat_G = np.concatenate([np.array(smape_pred)])\n",
    "\n",
    "fin_pred_G = np.median(concat_G,axis=0)\n",
    "\n",
    "np.sqrt(mean_squared_error(test_y.flatten(),fin_pred_G.flatten())),mean_absolute_error(test_y.flatten(),fin_pred_G.flatten())"
   ]
  },
  {
   "cell_type": "code",
   "execution_count": 14,
   "id": "8e93bd38-b5e0-4859-ad67-d827477c9e11",
   "metadata": {},
   "outputs": [
    {
     "data": {
      "text/plain": [
       "(0.46397232437183134, 0.25812885213894377)"
      ]
     },
     "execution_count": 14,
     "metadata": {},
     "output_type": "execute_result"
    }
   ],
   "source": [
    "concat_G = np.concatenate([np.array(mse_pred)])\n",
    "\n",
    "fin_pred_G = np.median(concat_G,axis=0)\n",
    "\n",
    "np.sqrt(mean_squared_error(test_y.flatten(),fin_pred_G.flatten())),mean_absolute_error(test_y.flatten(),fin_pred_G.flatten())"
   ]
  },
  {
   "cell_type": "code",
   "execution_count": 24,
   "id": "60b37ef9-fbb9-4aa9-8c31-331f39c49814",
   "metadata": {},
   "outputs": [
    {
     "data": {
      "text/plain": [
       "(0.47346642627471236, 0.24225268987377502)"
      ]
     },
     "execution_count": 24,
     "metadata": {},
     "output_type": "execute_result"
    }
   ],
   "source": [
    "concat_G = np.concatenate([np.array(mae_pred)])\n",
    "\n",
    "fin_pred_G = np.median(concat_G,axis=0)\n",
    "\n",
    "np.sqrt(mean_squared_error(test_y.flatten(),fin_pred_G.flatten())),mean_absolute_error(test_y.flatten(),fin_pred_G.flatten())"
   ]
  },
  {
   "cell_type": "code",
   "execution_count": 27,
   "id": "e38cd4ee-180c-47b4-b540-cc31ce2d4150",
   "metadata": {},
   "outputs": [
    {
     "data": {
      "text/plain": [
       "(0.4759024174233028, 0.24113393912705092)"
      ]
     },
     "execution_count": 27,
     "metadata": {},
     "output_type": "execute_result"
    }
   ],
   "source": [
    "concat_G = np.concatenate([np.array(mase_pred)])\n",
    "\n",
    "fin_pred_G = np.median(concat_G,axis=0)\n",
    "\n",
    "np.sqrt(mean_squared_error(test_y.flatten(),fin_pred_G.flatten())),mean_absolute_error(test_y.flatten(),fin_pred_G.flatten())"
   ]
  },
  {
   "cell_type": "code",
   "execution_count": 9,
   "id": "ba1ebab7-ad59-433f-8bf6-fa1479bea6ba",
   "metadata": {},
   "outputs": [],
   "source": [
    "\n",
    "pd.DataFrame(fin_pred_G.reshape(-1,24)).to_csv(\"../result7_new/NBEATs_G_T/pred_mid_G.csv\")\n",
    "for i in range(10):\n",
    "    pd.DataFrame(concat_G[i].reshape(-1,24)).to_csv(f\"../result7_new/NBEATs_G_T/pred_G{i}.csv\")"
   ]
  }
 ],
 "metadata": {
  "kernelspec": {
   "display_name": "Python 3 (ipykernel)",
   "language": "python",
   "name": "python3"
  },
  "language_info": {
   "codemirror_mode": {
    "name": "ipython",
    "version": 3
   },
   "file_extension": ".py",
   "mimetype": "text/x-python",
   "name": "python",
   "nbconvert_exporter": "python",
   "pygments_lexer": "ipython3",
   "version": "3.10.13"
  }
 },
 "nbformat": 4,
 "nbformat_minor": 5
}
