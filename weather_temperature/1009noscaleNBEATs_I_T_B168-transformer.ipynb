{
 "cells": [
  {
   "cell_type": "code",
   "execution_count": 49,
   "id": "bef0a982-34d7-4448-8a71-c7e5a337349e",
   "metadata": {},
   "outputs": [
    {
     "data": {
      "text/plain": [
       "3.718281828459045"
      ]
     },
     "execution_count": 49,
     "metadata": {},
     "output_type": "execute_result"
    }
   ],
   "source": [
    "np.exp(1)+1"
   ]
  },
  {
   "cell_type": "code",
   "execution_count": 59,
   "id": "4846d27e-6a14-4273-8117-1a1b35753374",
   "metadata": {},
   "outputs": [
    {
     "name": "stdout",
     "output_type": "stream",
     "text": [
      "[11.39541255 14.51332183 19.09126562]\n"
     ]
    }
   ],
   "source": [
    "import numpy as np\n",
    "\n",
    "# 3개의 모델 예측값과 성능 지표를 가정\n",
    "predictions = np.array([[10, 15, 20],  # 모델 1의 예측값\n",
    "                        [12, 14, 19],  # 모델 2의 예측값\n",
    "                        [11, 16, 18]]) # 모델 3의 예측값\n",
    "\n",
    "# 모델의 성능 지표 (작을수록 좋은 성능, 예: RMSE)\n",
    "performance = np.array([0.2, 0.001, 0.3])\n",
    "\n",
    "# 가중치를 지수 함수로 변환\n",
    "beta = 5  # 조정 파라미터\n",
    "weights = np.exp(-beta * performance)\n",
    "\n",
    "# 가중치를 정규화\n",
    "normalized_weights = weights / np.sum(weights)\n",
    "\n",
    "# 각 모델의 예측값에 가중치를 부여하여 앙상블 예측 생성\n",
    "ensemble_prediction = np.dot(normalized_weights, predictions)\n",
    "\n",
    "print(ensemble_prediction)\n"
   ]
  },
  {
   "cell_type": "code",
   "execution_count": 1,
   "id": "7ebab801-077c-43dc-9f56-b335c1d5fcae",
   "metadata": {},
   "outputs": [
    {
     "name": "stderr",
     "output_type": "stream",
     "text": [
      "2024-10-09 09:58:32.610390: I tensorflow/core/platform/cpu_feature_guard.cc:193] This TensorFlow binary is optimized with oneAPI Deep Neural Network Library (oneDNN) to use the following CPU instructions in performance-critical operations:  AVX2 FMA\n",
      "To enable them in other operations, rebuild TensorFlow with the appropriate compiler flags.\n",
      "2024-10-09 09:58:32.684989: W tensorflow/compiler/xla/stream_executor/platform/default/dso_loader.cc:64] Could not load dynamic library 'libcudart.so.11.0'; dlerror: libcudart.so.11.0: cannot open shared object file: No such file or directory\n",
      "2024-10-09 09:58:32.685008: I tensorflow/compiler/xla/stream_executor/cuda/cudart_stub.cc:29] Ignore above cudart dlerror if you do not have a GPU set up on your machine.\n",
      "2024-10-09 09:58:33.102576: W tensorflow/compiler/xla/stream_executor/platform/default/dso_loader.cc:64] Could not load dynamic library 'libnvinfer.so.7'; dlerror: libnvinfer.so.7: cannot open shared object file: No such file or directory\n",
      "2024-10-09 09:58:33.102626: W tensorflow/compiler/xla/stream_executor/platform/default/dso_loader.cc:64] Could not load dynamic library 'libnvinfer_plugin.so.7'; dlerror: libnvinfer_plugin.so.7: cannot open shared object file: No such file or directory\n",
      "2024-10-09 09:58:33.102631: W tensorflow/compiler/tf2tensorrt/utils/py_utils.cc:38] TF-TRT Warning: Cannot dlopen some TensorRT libraries. If you would like to use Nvidia GPU with TensorRT, please make sure the missing libraries mentioned above are installed properly.\n"
     ]
    }
   ],
   "source": [
    "import numpy as np\n",
    "import pandas as pd\n",
    "import matplotlib.pyplot as plt\n",
    "from nbeats_keras.model import NBeatsNet as NBeatsKeras\n",
    "from tensorflow.keras import backend as K\n",
    "from tensorflow.keras.callbacks import EarlyStopping, ModelCheckpoint\n",
    "#from nbeats_pytorch.model import NBeatsNet as NBeatsPytorch\n",
    "from keras.optimizers import RMSprop, Adam\n",
    "import time\n",
    "from keras.models import load_model\n",
    "#from target_data_electronic70_7 import target_X, target_y ,test_X, test_y\n",
    "#from m4databasis21_7 import base_domain,zt_in,zt_out,M4Meta,inputsize,train_12,train_12_y\n",
    "from sklearn.metrics import mean_squared_error,mean_absolute_error,mean_absolute_percentage_error\n",
    "from tensorflow.keras.losses import Loss\n",
    "import tensorflow as tf\n",
    "#from m4databasis35_7_70_7 import train_35,train_35_y,train_70,train_70_y\n",
    "from tensorflow.keras import layers\n",
    "from tensorflow.keras.models import Model\n",
    "from tensorflow.keras.layers import Input, Dense, LayerNormalization, MultiHeadAttention, Dropout, Add, Concatenate,Flatten,Reshape\n",
    "#import pandas as pd\n",
    "#####################################################################################\n",
    "target_X= pd.read_csv(\"../data/tem_train_input_7.csv\").iloc[:,(1):].values\n",
    "target_y =pd.read_csv(\"../data/tem_train_output_7.csv\").iloc[:,1:].values\n",
    "test_X= pd.read_csv(\"../data/tem_val_input_7.csv\").iloc[:,(1):].values\n",
    "test_y =pd.read_csv(\"../data/tem_val_output_7.csv\").iloc[:,1:].values\n",
    "\n",
    "np.random.seed(2)\n",
    "random_indices1 = np.random.choice(pd.read_csv(\"../data/M4_train.csv\").iloc[:,(1):].index, size=target_X.shape[0]*10, replace=False)\n",
    "X_train = pd.read_csv(\"../data/M4_train.csv\").iloc[:,1+(24*0):].loc[random_indices1].values\n",
    "y_train = pd.read_csv(\"../data/M4_test.csv\").iloc[:,1:].loc[random_indices1].values\n",
    "X_train.shape[1], y_train.shape[1]\n",
    "\n",
    "target_X.shape,test_X.shape\n",
    "###################################################\n",
    "# loss SMAPE\n",
    "class SMAPE(Loss):\n",
    "    def call(self, y_true, y_pred):\n",
    "        y_pred = tf.reshape(y_pred, tf.shape(y_true))  # 예측 값의 차원을 맞춤\n",
    "       # y_pred=tf.clip_by_value(y_pred, 1e-10, tf.reduce_max(y_pred))\n",
    "       # y_true = tf.clip_by_value(y_true, 1e-10, tf.reduce_max(y_true))\n",
    "        \n",
    "        numerator = 100 * tf.abs(y_true- y_pred )\n",
    "        denominator =  (tf.abs(y_true ) + tf.abs(y_pred))/2\n",
    "        smape =  numerator /  denominator #tf.clip_by_value(denominator, 1e-10, tf.reduce_max(denominator))\n",
    "        return tf.reduce_mean(smape)\n",
    "\n",
    "#################################################################################\n",
    "# loss MASE\n",
    "class MASE(Loss):\n",
    "    def __init__(self, training_data, period, *args, **kwargs):\n",
    "        super().__init__(*args, **kwargs)\n",
    "        self.scale = self.calculate_scale(training_data, period)\n",
    "    def seasonal_diff(data, period):\n",
    "        return data[period:] - data[:-period]\n",
    "\n",
    "    def calculate_scale(self, training_data, period):\n",
    "        # 주기 차분 계산\n",
    "        diff = seasonal_diff(training_data, period)\n",
    "        scale = np.mean(np.abs(diff))\n",
    "        return scale\n",
    "    \n",
    "    def call(self, y_true, y_pred):\n",
    "        y_pred = tf.reshape(y_pred, tf.shape(y_true))  # 차원 맞추기\n",
    "        error = tf.abs(y_true - y_pred)\n",
    "        return tf.reduce_mean(error / self.scale)\n",
    "\n",
    "def seasonal_diff(data, period):\n",
    "    return data[period:] - data[:-period]\n",
    "\n",
    "#################################################################################\n",
    "#################################################################################\n",
    "# 하이퍼파라미터 인자 설정\n",
    "def hyperparameter():\n",
    "    # 1 backcast\n",
    "    # 2 forecast\n",
    "    # 3 inputdim\n",
    "    # 4 outputdim\n",
    "    # 5 unit\n",
    "    # 6 bacth size\n",
    "    return X_train.shape[1], y_train.shape[1],1,1,256\n",
    "\n",
    "#################################################################################\n",
    "# nbeats + I모델 생성 함수\n",
    "def bulid_model(backcast_,forecast_,input_dim,output_dim,unit):\n",
    "    model= NBeatsKeras(backcast_length=backcast_, \n",
    "                       forecast_length=forecast_,\n",
    "                       input_dim=input_dim,\n",
    "                       output_dim=output_dim,\n",
    "                       stack_types=(NBeatsKeras.TREND_BLOCK,\n",
    "                                    NBeatsKeras.TREND_BLOCK,\n",
    "                                    \n",
    "                                    NBeatsKeras.TREND_BLOCK,\n",
    "                                   NBeatsKeras.SEASONALITY_BLOCK,\n",
    "                                   NBeatsKeras.SEASONALITY_BLOCK,\n",
    "                                   NBeatsKeras.SEASONALITY_BLOCK)\n",
    "                   ,nb_blocks_per_stack=1, thetas_dim=(1,2,3,24,12,6),\n",
    "                   share_weights_in_stack=True, hidden_layer_units=unit)\n",
    "    return model \n",
    "#################################################################################\n",
    "# nbeats + G모델 생성 함수    \n",
    "def bulid_model_G(backcast_,forecast_,input_dim,output_dim,unit):\n",
    "    model= NBeatsKeras(backcast_length=backcast_, \n",
    "                       forecast_length=forecast_,\n",
    "                       input_dim=input_dim,\n",
    "                       output_dim=output_dim,\n",
    "                       stack_types=(NBeatsKeras.GENERIC_BLOCK,NBeatsKeras.GENERIC_BLOCK)\n",
    "                   ,nb_blocks_per_stack=5, thetas_dim=(4,4),\n",
    "                   share_weights_in_stack=False, hidden_layer_units=unit)\n",
    "    return model \n",
    "#################################################################################\n",
    "# nbeats + I모델 부트스트랩 샘플링 배깅\n",
    "\n",
    "def train_bagging_models(num_models, loss_fn , epochs_, patience_,batch_size_,lr):\n",
    "    models = {}\n",
    "    backcast,forecast,in_dim,out_dim,unit = hyperparameter()\n",
    "    historys = []\n",
    "    for n in range(num_models):\n",
    "        K.clear_session()\n",
    "        model = bulid_model(backcast,forecast,in_dim,out_dim,unit)\n",
    "       # model.set_weights(pretrained_weights)  # 전이 학습 가중치 적용\n",
    "        optimizer = Adam(learning_rate=lr)\n",
    "        model.compile(optimizer=optimizer , loss=loss_fn)\n",
    "        \n",
    "        # 부트스트랩 샘플링\n",
    "        select = np.random.choice(len(X_train), size=len(X_train), replace=True)\n",
    "        X_bootstrap = X_train[select]\n",
    "        y_bootstrap = y_train[select]\n",
    "        early_stop = EarlyStopping(monitor='val_loss', patience = patience_, verbose = 0, restore_best_weights=True)\n",
    "        history = model.fit(X_bootstrap, y_bootstrap, batch_size = batch_size_,\n",
    "                  epochs=epochs_, verbose=0, \n",
    "                  callbacks=[early_stop],\n",
    "                 validation_split = 0.2)\n",
    "        models[f'model_{n+1}'] = model\n",
    "        historys.append(history)\n",
    "        #models.append(model)\n",
    "        print(f\"'########################################################Model{n}\")\n",
    "    return models,historys\n",
    "#################################################################################\n",
    "# nbeats + I모델 부트스트랩 샘플링 배깅\n",
    "\n",
    "def train_bagging_models_G(num_models, loss_fn , epochs_, patience_,batch_size_,lr):\n",
    "    models = {}\n",
    "    backcast,forecast,in_dim,out_dim,unit = hyperparameter()\n",
    "    historys = []\n",
    "    for n in range(num_models):\n",
    "        K.clear_session()\n",
    "        model = bulid_model_G(backcast,forecast,in_dim,out_dim,unit)\n",
    "       # model.set_weights(pretrained_weights)  # 전이 학습 가중치 적용\n",
    "        optimizer = Adam(learning_rate=lr)\n",
    "        model.compile(optimizer=optimizer , loss=loss_fn)\n",
    "        \n",
    "        # 부트스트랩 샘플링\n",
    "        select = np.random.choice(len(X_train), size=len(X_train), replace=True)\n",
    "        X_bootstrap = X_train[select]\n",
    "        y_bootstrap = y_train[select]\n",
    "        early_stop = EarlyStopping(monitor='val_loss', patience = patience_, restore_best_weights=True)\n",
    "        history = model.fit(X_bootstrap, y_bootstrap, batch_size = batch_size_,\n",
    "                  epochs=epochs_, verbose=0, \n",
    "                  callbacks=[early_stop],\n",
    "                 validation_split = 0.2)\n",
    "        models[f'model_{n+1}'] = model\n",
    "        historys.append(history)\n",
    "        #models.append(model)\n",
    "        print(f\"'########################################################Model{n}\")\n",
    "    return models,historys\n",
    "\n",
    "#################################################################################\n",
    "##########################################################################################\n",
    "# 트랜스퍼 레이어\n",
    "class PositionalEncoding(layers.Layer):\n",
    "    def __init__(self, d_model, dropout=0.1, max_len=5000):\n",
    "        super(PositionalEncoding, self).__init__()\n",
    "        self.dropout = layers.Dropout(rate=dropout)\n",
    "\n",
    "        position = np.arange(max_len)[:, np.newaxis]\n",
    "        div_term = np.exp(np.arange(0, d_model, 2) * (-np.log(10000.0) / d_model))\n",
    "        pe = np.zeros((max_len, d_model))\n",
    "        pe[:, 0::2] = np.sin(position * div_term)\n",
    "        pe[:, 1::2] = np.cos(position * div_term)\n",
    "        pe = pe[np.newaxis, ...]\n",
    "\n",
    "        self.pe = tf.constant(pe, dtype=tf.float32)\n",
    "\n",
    "    def call(self, x):\n",
    "        x = x + self.pe[:, :tf.shape(x)[1], :]\n",
    "        return self.dropout(x)\n",
    "##########################################################################################\n",
    "# 트랜스퍼 레이어\n",
    "def create_model(fn,d_model, nlayers, nhead, dropout, iw, ow,lr,pretrained_output_reshaped,inputs):\n",
    "    \n",
    "    \n",
    "    x = layers.Dense(d_model // 2, activation='relu')(pretrained_output_reshaped)\n",
    "    x = layers.Dense(d_model, activation='relu')(x)\n",
    "    \n",
    "    pos_encoding = PositionalEncoding(d_model, dropout)\n",
    "    x = pos_encoding(x)\n",
    "    \n",
    "    for _ in range(nlayers):\n",
    "        attn_output = layers.MultiHeadAttention(num_heads=nhead, key_dim=d_model, dropout=dropout)(x, x)\n",
    "        x = layers.LayerNormalization(epsilon=1e-6)(x + attn_output)\n",
    "        ffn_output = layers.Dense(d_model, activation='relu')(x)\n",
    "        ffn_output = layers.Dense(d_model)(ffn_output)\n",
    "        x = layers.LayerNormalization(epsilon=1e-6)(x + ffn_output)\n",
    "    \n",
    "    x = layers.Dense(d_model // 2, activation='relu')(x)\n",
    "    x = layers.Dense(1)(x)\n",
    "    x = tf.squeeze(x, axis=-1)\n",
    "    \n",
    "    outputs = layers.Dense((iw + ow) // 2, activation='relu')(x)\n",
    "    outputs = layers.Dense(ow)(outputs)\n",
    "    \n",
    "    optimizer = Adam(learning_rate=lr)\n",
    "    target_model = Model(inputs=inputs, outputs=outputs)\n",
    "    target_model.compile(optimizer=optimizer, loss=fn)\n",
    "    \n",
    "    return target_model\n",
    "########################################################################################################################\n",
    "def transfer_(model_num,models,trainable,\n",
    "              lossf,epochs_,batch_size_,pt,lr_):\n",
    "    #model_mapes_G = {}\n",
    "    #history_mapes_G = []\n",
    "    model_pred = []\n",
    "    for i in range(1, model_num+1):\n",
    "        K.clear_session()\n",
    "        model_name = f'model_{i}'\n",
    "        m,_ = models#[model_name]\n",
    "        model1= m[model_name]\n",
    "        # 모든 레이어를 학습 불가능하게 설정\n",
    "        for layer in model1.layers[:-1]:  # 새로운 레이어 추가된 부분은 학습 가능하도록 설정\n",
    "            layer.trainable = trainable\n",
    "        pretrained_layers = model1.layers[:-1]\n",
    "        \n",
    "        pretrained_model = Model(inputs=model1.input, outputs=pretrained_layers[-1].output)\n",
    "        \n",
    "        inputs = Input(shape=(X_train.shape[1], 1))\n",
    "        pretrained_output = pretrained_model(inputs)\n",
    "        pretrained_output_reshaped = layers.Reshape((y_train.shape[1], -1))(pretrained_output)\n",
    "            \n",
    "        model_instance = create_model(lossf ,d_model=128, nlayers=1,nhead=4, dropout=0.1, iw=X_train.shape[1], ow=y_train.shape[1],lr=lr_\n",
    "                                      ,pretrained_output_reshaped=pretrained_output_reshaped,inputs=inputs)\n",
    "        early_stop = EarlyStopping(monitor='val_loss', patience=pt, verbose=0, restore_best_weights=True)\n",
    "    \n",
    "        history = model_instance.fit(target_X, target_y, batch_size = batch_size_,\n",
    "                      epochs=epochs_, verbose=0, \n",
    "                      callbacks=[early_stop],\n",
    "                     validation_split = 0.2)\n",
    "        pred = model_instance.predict(test_X)\n",
    "        pred = pred.reshape(-1,y_train.shape[1])\n",
    "        model_pred.append(pred)\n",
    "        #history_mapes_G.append(history)\n",
    "        #model_mapes_G[f'model_{i}'] =model_instance\n",
    "        #del model_instance\n",
    "        print(f\"'########################################################fitted{i}\")\n",
    "    return model_pred\n",
    "#################################################################################\n",
    "# 예측\n",
    "\n",
    "def bagging_predict(models, X):\n",
    "    predictions = np.array([model.predict(X) for model in models.values()])\n",
    "    return np.median(predictions, axis=0)\n",
    "\n",
    "def bagging_predict2(models, X):\n",
    "    predictions = np.array([model.predict(X) for model in models.values()])\n",
    "    return predictions"
   ]
  },
  {
   "cell_type": "code",
   "execution_count": 2,
   "id": "1d07f2fa-76d1-4ebb-a8ff-82efd98f5312",
   "metadata": {
    "scrolled": true
   },
   "outputs": [
    {
     "name": "stderr",
     "output_type": "stream",
     "text": [
      "2024-10-09 09:58:41.501697: E tensorflow/compiler/xla/stream_executor/cuda/cuda_driver.cc:267] failed call to cuInit: CUDA_ERROR_NO_DEVICE: no CUDA-capable device is detected\n",
      "2024-10-09 09:58:41.501740: I tensorflow/compiler/xla/stream_executor/cuda/cuda_diagnostics.cc:156] kernel driver does not appear to be running on this host (ymlee2-desktop): /proc/driver/nvidia/version does not exist\n",
      "2024-10-09 09:58:41.502560: I tensorflow/core/platform/cpu_feature_guard.cc:193] This TensorFlow binary is optimized with oneAPI Deep Neural Network Library (oneDNN) to use the following CPU instructions in performance-critical operations:  AVX2 FMA\n",
      "To enable them in other operations, rebuild TensorFlow with the appropriate compiler flags.\n"
     ]
    },
    {
     "name": "stdout",
     "output_type": "stream",
     "text": [
      "'########################################################Model0\n",
      "'########################################################Model1\n",
      "'########################################################Model2\n",
      "'########################################################Model3\n",
      "'########################################################Model4\n",
      "'########################################################Model0\n",
      "'########################################################Model1\n",
      "'########################################################Model2\n",
      "'########################################################Model3\n",
      "'########################################################Model4\n",
      "'########################################################Model0\n",
      "'########################################################Model1\n",
      "'########################################################Model2\n",
      "'########################################################Model3\n",
      "'########################################################Model4\n",
      "'########################################################Model0\n",
      "'########################################################Model1\n",
      "'########################################################Model2\n",
      "'########################################################Model3\n",
      "'########################################################Model4\n",
      "'########################################################Model0\n",
      "'########################################################Model1\n",
      "'########################################################Model2\n",
      "'########################################################Model3\n",
      "'########################################################Model4\n"
     ]
    }
   ],
   "source": [
    "num=5\n",
    "mape_models = train_bagging_models(num,'mape',100,10,512,0.001)\n",
    "smape_models = train_bagging_models(num,SMAPE(),100,10,512,0.001)\n",
    "mase_models = train_bagging_models(num,MASE(y_train,y_train.shape[1]),100,10,512,0.001)\n",
    "mae_models = train_bagging_models(num,'mae',100,10,512,0.001)\n",
    "mse_models = train_bagging_models(num,'mse',100,10,512,0.001)"
   ]
  },
  {
   "cell_type": "code",
   "execution_count": 3,
   "id": "bb556995-5d3b-4edb-921f-062ea5192e63",
   "metadata": {},
   "outputs": [
    {
     "name": "stdout",
     "output_type": "stream",
     "text": [
      "12/12 [==============================] - 1s 9ms/step\n",
      "'########################################################fitted1\n",
      "12/12 [==============================] - 1s 10ms/step\n",
      "'########################################################fitted2\n",
      "12/12 [==============================] - 1s 9ms/step\n",
      "'########################################################fitted3\n",
      "12/12 [==============================] - 1s 9ms/step\n",
      "'########################################################fitted4\n",
      "12/12 [==============================] - 1s 9ms/step\n",
      "'########################################################fitted5\n",
      "12/12 [==============================] - 1s 8ms/step\n",
      "'########################################################fitted1\n",
      "12/12 [==============================] - 1s 9ms/step\n",
      "'########################################################fitted2\n",
      "12/12 [==============================] - 1s 8ms/step\n",
      "'########################################################fitted3\n",
      "12/12 [==============================] - 1s 8ms/step\n",
      "'########################################################fitted4\n",
      "12/12 [==============================] - 1s 8ms/step\n",
      "'########################################################fitted5\n",
      "12/12 [==============================] - 1s 7ms/step\n",
      "'########################################################fitted1\n",
      "12/12 [==============================] - 1s 8ms/step\n",
      "'########################################################fitted2\n",
      "12/12 [==============================] - 0s 8ms/step\n",
      "'########################################################fitted3\n",
      "12/12 [==============================] - 1s 8ms/step\n",
      "'########################################################fitted4\n",
      "12/12 [==============================] - 2s 8ms/step\n",
      "'########################################################fitted5\n",
      "12/12 [==============================] - 1s 7ms/step\n",
      "'########################################################fitted1\n",
      "12/12 [==============================] - 1s 8ms/step\n",
      "'########################################################fitted2\n",
      "12/12 [==============================] - 1s 8ms/step\n",
      "'########################################################fitted3\n",
      "12/12 [==============================] - 1s 8ms/step\n",
      "'########################################################fitted4\n",
      "12/12 [==============================] - 1s 6ms/step\n",
      "'########################################################fitted5\n",
      "12/12 [==============================] - 0s 6ms/step\n",
      "'########################################################fitted1\n",
      "12/12 [==============================] - 1s 8ms/step\n",
      "'########################################################fitted2\n",
      "12/12 [==============================] - 1s 8ms/step\n",
      "'########################################################fitted3\n",
      "12/12 [==============================] - 1s 8ms/step\n",
      "'########################################################fitted4\n",
      "12/12 [==============================] - 1s 7ms/step\n",
      "'########################################################fitted5\n"
     ]
    }
   ],
   "source": [
    "mape_pred = transfer_(num,mape_models,True, 'mape',2000,8,10,0.001)\n",
    "mase_pred = transfer_(num,mase_models,True, MASE(target_y,y_train.shape[1]),2000,8,10,0.0005)\n",
    "smape_pred = transfer_(num,smape_models,True, SMAPE(),2000,8,10,0.001)\n",
    "mae_pred = transfer_(num,mae_models,True, 'mae',2000,8,10,0.0005)\n",
    "mse_pred = transfer_(num,mse_models,True, 'mse',2000,8,10,0.0005)\n"
   ]
  },
  {
   "cell_type": "code",
   "execution_count": 17,
   "id": "eca183b8-2e10-4729-acea-3e36a61ac7c1",
   "metadata": {},
   "outputs": [
    {
     "data": {
      "text/plain": [
       "(4.693588577547974, 3.5481591266913592)"
      ]
     },
     "execution_count": 17,
     "metadata": {},
     "output_type": "execute_result"
    }
   ],
   "source": [
    "concat = np.concatenate([np.array(mase_pred),np.nan_to_num(np.array(mape_pred), nan=0),np.array(smape_pred),\n",
    "                         np.nan_to_num(np.array(mae_pred), nan=0),np.nan_to_num(np.array(mse_pred), nan=0)])\n",
    "\n",
    "fin_pred = np.median(concat,axis=0)\n",
    "\n",
    "np.sqrt(mean_squared_error(test_y.flatten(),fin_pred.flatten())),mean_absolute_error(test_y.flatten(),fin_pred.flatten())"
   ]
  },
  {
   "cell_type": "code",
   "execution_count": 18,
   "id": "cc0054f6-caa0-4ccb-b64e-871be6c37ced",
   "metadata": {},
   "outputs": [
    {
     "data": {
      "text/plain": [
       "(12.874358247410923, 9.473057751699656)"
      ]
     },
     "execution_count": 18,
     "metadata": {},
     "output_type": "execute_result"
    }
   ],
   "source": [
    "concat = np.concatenate([np.array(mase_pred),np.nan_to_num(np.array(mape_pred), nan=0),np.array(smape_pred)])\n",
    "\n",
    "fin_pred = np.median(concat,axis=0)\n",
    "\n",
    "np.sqrt(mean_squared_error(test_y.flatten(),fin_pred.flatten())),mean_absolute_error(test_y.flatten(),fin_pred.flatten())"
   ]
  },
  {
   "cell_type": "code",
   "execution_count": 20,
   "id": "bb42866c-edcd-46df-8e43-5a4b83baee34",
   "metadata": {},
   "outputs": [
    {
     "data": {
      "text/plain": [
       "(2.6909847299435534, 1.9598634833780537)"
      ]
     },
     "execution_count": 20,
     "metadata": {},
     "output_type": "execute_result"
    }
   ],
   "source": [
    "concat = np.concatenate([np.array(mase_pred),\n",
    "                         np.nan_to_num(np.array(mae_pred), nan=0),np.nan_to_num(np.array(mse_pred), nan=0)])\n",
    "\n",
    "fin_pred = np.median(concat,axis=0)\n",
    "pd.DataFrame(fin_pred.flatten()).to_csv(\"../best7/nbeats+i+t.csv\")\n",
    "\n",
    "np.sqrt(mean_squared_error(test_y.flatten(),fin_pred.flatten())),mean_absolute_error(test_y.flatten(),fin_pred.flatten())"
   ]
  },
  {
   "cell_type": "code",
   "execution_count": 6,
   "id": "2b855baa-fa17-4275-a892-533c77c5ed41",
   "metadata": {},
   "outputs": [
    {
     "data": {
      "text/plain": [
       "(2.689238288223915, 1.91862944438362)"
      ]
     },
     "execution_count": 6,
     "metadata": {},
     "output_type": "execute_result"
    }
   ],
   "source": [
    "concat = np.concatenate([np.nan_to_num(np.array(mase_pred), nan=0)])\n",
    "\n",
    "fin_pred = np.median(concat,axis=0)\n",
    "\n",
    "np.sqrt(mean_squared_error(test_y.flatten(),fin_pred.flatten())),mean_absolute_error(test_y.flatten(),fin_pred.flatten())"
   ]
  },
  {
   "cell_type": "code",
   "execution_count": 12,
   "id": "bb533a7b-5326-4ad2-803d-6da64ce7fe07",
   "metadata": {},
   "outputs": [
    {
     "data": {
      "text/plain": [
       "(17.986251971059737, 15.388781383666535)"
      ]
     },
     "execution_count": 12,
     "metadata": {},
     "output_type": "execute_result"
    }
   ],
   "source": [
    "concat = np.concatenate([np.nan_to_num(np.array(mape_pred))])\n",
    "\n",
    "fin_pred = np.median(concat,axis=0)\n",
    "\n",
    "np.sqrt(mean_squared_error(test_y.flatten(),fin_pred.flatten())),mean_absolute_error(test_y.flatten(),fin_pred.flatten())"
   ]
  },
  {
   "cell_type": "code",
   "execution_count": 8,
   "id": "1709755a-519a-489a-a737-ad1c7d167639",
   "metadata": {},
   "outputs": [
    {
     "data": {
      "text/plain": [
       "(16.271953833075347, 13.306814769068577)"
      ]
     },
     "execution_count": 8,
     "metadata": {},
     "output_type": "execute_result"
    }
   ],
   "source": [
    "concat = np.concatenate([np.array(smape_pred)])\n",
    "\n",
    "fin_pred = np.median(concat,axis=0)\n",
    "\n",
    "np.sqrt(mean_squared_error(test_y.flatten(),fin_pred.flatten())),mean_absolute_error(test_y.flatten(),fin_pred.flatten())"
   ]
  },
  {
   "cell_type": "code",
   "execution_count": 9,
   "id": "ea6d4291-1d49-4499-9143-f2830919658b",
   "metadata": {},
   "outputs": [
    {
     "data": {
      "text/plain": [
       "(2.7632015300854977, 1.9940179363907673)"
      ]
     },
     "execution_count": 9,
     "metadata": {},
     "output_type": "execute_result"
    }
   ],
   "source": [
    "concat = np.concatenate([np.nan_to_num(np.array(mae_pred), nan=0)])\n",
    "\n",
    "fin_pred = np.median(concat,axis=0)\n",
    "\n",
    "np.sqrt(mean_squared_error(test_y.flatten(),fin_pred.flatten())),mean_absolute_error(test_y.flatten(),fin_pred.flatten())"
   ]
  },
  {
   "cell_type": "code",
   "execution_count": 10,
   "id": "4bdfe304-8810-46dd-a5f9-c12ab3b064c3",
   "metadata": {},
   "outputs": [
    {
     "data": {
      "text/plain": [
       "(3.0280852780778456, 2.3671868121699076)"
      ]
     },
     "execution_count": 10,
     "metadata": {},
     "output_type": "execute_result"
    }
   ],
   "source": [
    "concat = np.concatenate([np.nan_to_num(np.array(mse_pred), nan=0)])\n",
    "\n",
    "fin_pred = np.median(concat,axis=0)\n",
    "\n",
    "np.sqrt(mean_squared_error(test_y.flatten(),fin_pred.flatten())),mean_absolute_error(test_y.flatten(),fin_pred.flatten())"
   ]
  },
  {
   "cell_type": "code",
   "execution_count": 67,
   "id": "a87885c4-4e57-4539-b353-5c4e435a730f",
   "metadata": {},
   "outputs": [
    {
     "data": {
      "text/plain": [
       "17.98625"
      ]
     },
     "execution_count": 67,
     "metadata": {},
     "output_type": "execute_result"
    }
   ],
   "source": [
    "MAPE"
   ]
  },
  {
   "cell_type": "code",
   "execution_count": 69,
   "id": "47bc86d0-ebdc-429a-a371-63ea75061277",
   "metadata": {},
   "outputs": [
    {
     "data": {
      "text/plain": [
       "(5, 358, 24)"
      ]
     },
     "execution_count": 69,
     "metadata": {},
     "output_type": "execute_result"
    }
   ],
   "source": [
    "concat_mase.shape"
   ]
  },
  {
   "cell_type": "code",
   "execution_count": 71,
   "id": "134317cd-5a2d-4694-a741-44bf63de91d3",
   "metadata": {},
   "outputs": [
    {
     "data": {
      "text/plain": [
       "(716, 24)"
      ]
     },
     "execution_count": 71,
     "metadata": {},
     "output_type": "execute_result"
    }
   ],
   "source": [
    "np.concatenate([fin_pred_mase,fin_pred_mape])"
   ]
  },
  {
   "cell_type": "code",
   "execution_count": 88,
   "id": "dfa8699a-86d3-4790-80e5-f9b7c47e4bb3",
   "metadata": {},
   "outputs": [],
   "source": [
    "gd= np.concatenate([fin_pred_mase.flatten().reshape(1,-1),\n",
    "                    fin_pred_mape.flatten().reshape(1,-1),\n",
    "                   fin_pred_smape.flatten().reshape(1,-1)],axis=0)"
   ]
  },
  {
   "cell_type": "code",
   "execution_count": 99,
   "id": "db6e4896-e623-43c1-af10-d28d5bfe452a",
   "metadata": {},
   "outputs": [
    {
     "name": "stdout",
     "output_type": "stream",
     "text": [
      "2.67591\n"
     ]
    }
   ],
   "source": [
    "concat_mase = np.concatenate([np.nan_to_num(np.array(mase_pred), nan=0)])\n",
    "fin_pred_mase = np.median(concat_mase,axis=0)\n",
    "MASE= np.sqrt(mean_squared_error(test_y.flatten(),fin_pred_mase .flatten())).round(5)\n",
    "\n",
    "concat_mape = np.concatenate([np.nan_to_num(np.array(mape_pred), nan=0)])\n",
    "fin_pred_mape = np.median(concat_mape,axis=0)\n",
    "MAPE= np.sqrt(mean_squared_error(test_y.flatten(),fin_pred_mape .flatten())).round(5)\n",
    "\n",
    "concat_smape = np.concatenate([np.nan_to_num(np.array(smape_pred), nan=0)])\n",
    "fin_pred_smape = np.median(concat_smape,axis=0)\n",
    "sMAPE= np.sqrt(mean_squared_error(test_y.flatten(),fin_pred_smape .flatten())).round(5)\n",
    "\n",
    "concat_mae = np.concatenate([np.nan_to_num(np.array(mae_pred), nan=0)])\n",
    "fin_pred_mae = np.median(concat_mae,axis=0)\n",
    "MAE= np.sqrt(mean_squared_error(test_y.flatten(),fin_pred_mae .flatten())).round(5)\n",
    "\n",
    "concat_mse = np.concatenate([np.nan_to_num(np.array(mse_pred), nan=0)])\n",
    "fin_pred_mse = np.median(concat_mse,axis=0)\n",
    "MSE= np.sqrt(mean_squared_error(test_y.flatten(),fin_pred_mse .flatten())).round(5)\n",
    "\n",
    "performance = np.array([MASE, MAPE,sMAPE,MAE,MSE])\n",
    "beta = 10  # 조정 파라미터\n",
    "weights = np.exp(-beta * performance)\n",
    "\n",
    "gd= np.concatenate([fin_pred_mase.flatten().reshape(1,-1),\n",
    "                    fin_pred_mape.flatten().reshape(1,-1),\n",
    "                   fin_pred_smape.flatten().reshape(1,-1),\n",
    "                   fin_pred_mae.flatten().reshape(1,-1),\n",
    "                   fin_pred_mse.flatten().reshape(1,-1)],axis=0)\n",
    "\n",
    "normalized_weights = weights / np.sum(weights)\n",
    "\n",
    "# 각 모델의 예측값에 가중치를 부여하여 앙상블 예측 생성\n",
    "ensemble_prediction = np.dot(normalized_weights, gd)\n",
    "print(np.sqrt(mean_squared_error(test_y.flatten(),ensemble_prediction)).round(5))"
   ]
  },
  {
   "cell_type": "code",
   "execution_count": 100,
   "id": "a91bd8a3-a957-48d0-8b20-3ebf04fee57f",
   "metadata": {},
   "outputs": [],
   "source": [
    "pd.DataFrame(ensemble_prediction).to_csv(\"../exp7/NBEATs_I+Transformer.csv\")"
   ]
  },
  {
   "cell_type": "code",
   "execution_count": 10,
   "id": "95b2647e-5ddc-49c6-bc34-3f0338313961",
   "metadata": {},
   "outputs": [],
   "source": [
    "\n",
    "pd.DataFrame(fin_pred.reshape(-1,24)).to_csv(\"../result7_new/NBEATs_I_T/pred_mid_I.csv\")\n",
    "for i in range(10):\n",
    "    pd.DataFrame(concat[i].reshape(-1,24)).to_csv(f\"../result7_new/NBEATs_I_T/pred_I{i}.csv\")"
   ]
  }
 ],
 "metadata": {
  "kernelspec": {
   "display_name": "Python 3 (ipykernel)",
   "language": "python",
   "name": "python3"
  },
  "language_info": {
   "codemirror_mode": {
    "name": "ipython",
    "version": 3
   },
   "file_extension": ".py",
   "mimetype": "text/x-python",
   "name": "python",
   "nbconvert_exporter": "python",
   "pygments_lexer": "ipython3",
   "version": "3.10.13"
  }
 },
 "nbformat": 4,
 "nbformat_minor": 5
}
