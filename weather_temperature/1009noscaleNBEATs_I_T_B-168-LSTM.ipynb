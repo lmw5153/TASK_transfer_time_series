{
 "cells": [
  {
   "cell_type": "code",
   "execution_count": 1,
   "id": "7ebab801-077c-43dc-9f56-b335c1d5fcae",
   "metadata": {},
   "outputs": [
    {
     "name": "stderr",
     "output_type": "stream",
     "text": [
      "2024-10-09 03:54:32.382284: I tensorflow/core/platform/cpu_feature_guard.cc:193] This TensorFlow binary is optimized with oneAPI Deep Neural Network Library (oneDNN) to use the following CPU instructions in performance-critical operations:  AVX2 FMA\n",
      "To enable them in other operations, rebuild TensorFlow with the appropriate compiler flags.\n",
      "2024-10-09 03:54:32.469913: W tensorflow/compiler/xla/stream_executor/platform/default/dso_loader.cc:64] Could not load dynamic library 'libcudart.so.11.0'; dlerror: libcudart.so.11.0: cannot open shared object file: No such file or directory\n",
      "2024-10-09 03:54:32.469933: I tensorflow/compiler/xla/stream_executor/cuda/cudart_stub.cc:29] Ignore above cudart dlerror if you do not have a GPU set up on your machine.\n",
      "2024-10-09 03:54:32.944509: W tensorflow/compiler/xla/stream_executor/platform/default/dso_loader.cc:64] Could not load dynamic library 'libnvinfer.so.7'; dlerror: libnvinfer.so.7: cannot open shared object file: No such file or directory\n",
      "2024-10-09 03:54:32.944562: W tensorflow/compiler/xla/stream_executor/platform/default/dso_loader.cc:64] Could not load dynamic library 'libnvinfer_plugin.so.7'; dlerror: libnvinfer_plugin.so.7: cannot open shared object file: No such file or directory\n",
      "2024-10-09 03:54:32.944567: W tensorflow/compiler/tf2tensorrt/utils/py_utils.cc:38] TF-TRT Warning: Cannot dlopen some TensorRT libraries. If you would like to use Nvidia GPU with TensorRT, please make sure the missing libraries mentioned above are installed properly.\n"
     ]
    }
   ],
   "source": [
    "import numpy as np\n",
    "import pandas as pd\n",
    "import matplotlib.pyplot as plt\n",
    "from nbeats_keras.model import NBeatsNet as NBeatsKeras\n",
    "from tensorflow.keras import backend as K\n",
    "from tensorflow.keras.callbacks import EarlyStopping, ModelCheckpoint\n",
    "#from nbeats_pytorch.model import NBeatsNet as NBeatsPytorch\n",
    "from keras.optimizers import RMSprop, Adam\n",
    "import time\n",
    "from keras.models import load_model\n",
    "#from target_data_electronic70_7 import target_X, target_y ,test_X, test_y\n",
    "#from m4databasis21_7 import base_domain,zt_in,zt_out,M4Meta,inputsize,train_12,train_12_y\n",
    "from sklearn.metrics import mean_squared_error,mean_absolute_error,mean_absolute_percentage_error\n",
    "from tensorflow.keras.losses import Loss\n",
    "import tensorflow as tf\n",
    "#from m4databasis35_7_70_7 import train_35,train_35_y,train_70,train_70_y\n",
    "from tensorflow.keras import layers\n",
    "from tensorflow.keras.models import Model\n",
    "from tensorflow.keras.layers import Input, Dense, LayerNormalization, MultiHeadAttention, Dropout, Add, Concatenate,Flatten,Reshape,LSTM\n",
    "#import pandas as pd\n",
    "#####################################################################################\n",
    "target_X= pd.read_csv(\"../data/tem_train_input_7.csv\").iloc[:,(1):].values\n",
    "target_y =pd.read_csv(\"../data/tem_train_output_7.csv\").iloc[:,1:].values\n",
    "test_X= pd.read_csv(\"../data/tem_val_input_7.csv\").iloc[:,(1):].values\n",
    "test_y =pd.read_csv(\"../data/tem_val_output_7.csv\").iloc[:,1:].values\n",
    "\n",
    "np.random.seed(2)\n",
    "random_indices1 = np.random.choice(pd.read_csv(\"../data/M4_train.csv\").iloc[:,(1):].index, size=target_X.shape[0]*10, replace=False)\n",
    "X_train = pd.read_csv(\"../data/M4_train.csv\").iloc[:,1+(24*0):].loc[random_indices1].values\n",
    "y_train = pd.read_csv(\"../data/M4_test.csv\").iloc[:,1:].loc[random_indices1].values\n",
    "X_train.shape[1], y_train.shape[1]\n",
    "\n",
    "target_X.shape,test_X.shape\n",
    "\n",
    "\n",
    "#################################################################################\n",
    "# loss SMAPE\n",
    "class SMAPE(Loss):\n",
    "    def call(self, y_true, y_pred):\n",
    "        y_pred = tf.reshape(y_pred, tf.shape(y_true))  # 예측 값의 차원을 맞춤\n",
    "       # y_pred=tf.clip_by_value(y_pred, 1e-10, tf.reduce_max(y_pred))\n",
    "       # y_true = tf.clip_by_value(y_true, 1e-10, tf.reduce_max(y_true))\n",
    "        \n",
    "        numerator = 100 * tf.abs(y_true- y_pred )\n",
    "        denominator =  (tf.abs(y_true ) + tf.abs(y_pred))/2\n",
    "        smape =  numerator /  denominator #tf.clip_by_value(denominator, 1e-10, tf.reduce_max(denominator))\n",
    "        return tf.reduce_mean(smape)\n",
    "\n",
    "#################################################################################\n",
    "# loss MASE\n",
    "class MASE(Loss):\n",
    "    def __init__(self, training_data, period, *args, **kwargs):\n",
    "        super().__init__(*args, **kwargs)\n",
    "        self.scale = self.calculate_scale(training_data, period)\n",
    "    def seasonal_diff(data, period):\n",
    "        return data[period:] - data[:-period]\n",
    "\n",
    "    def calculate_scale(self, training_data, period):\n",
    "        # 주기 차분 계산\n",
    "        diff = seasonal_diff(training_data, period)\n",
    "        scale = np.mean(np.abs(diff))\n",
    "        return scale\n",
    "    \n",
    "    def call(self, y_true, y_pred):\n",
    "        y_pred = tf.reshape(y_pred, tf.shape(y_true))  # 차원 맞추기\n",
    "        error = tf.abs(y_true - y_pred)\n",
    "        return tf.reduce_mean(error / self.scale)\n",
    "\n",
    "def seasonal_diff(data, period):\n",
    "    return data[period:] - data[:-period]\n",
    "\n",
    "#################################################################################\n",
    "#################################################################################\n",
    "# 하이퍼파라미터 인자 설정\n",
    "def hyperparameter():\n",
    "    # 1 backcast\n",
    "    # 2 forecast\n",
    "    # 3 inputdim\n",
    "    # 4 outputdim\n",
    "    # 5 unit\n",
    "    # 6 bacth size\n",
    "    return X_train.shape[1], y_train.shape[1],1,1,256\n",
    "\n",
    "#################################################################################\n",
    "# nbeats + I모델 생성 함수\n",
    "def bulid_model(backcast_,forecast_,input_dim,output_dim,unit):\n",
    "    model= NBeatsKeras(backcast_length=backcast_, \n",
    "                       forecast_length=forecast_,\n",
    "                       input_dim=input_dim,\n",
    "                       output_dim=output_dim,\n",
    "                       stack_types=(NBeatsKeras.TREND_BLOCK,\n",
    "                                    NBeatsKeras.TREND_BLOCK,\n",
    "                                    NBeatsKeras.TREND_BLOCK,\n",
    "                                    NBeatsKeras.SEASONALITY_BLOCK,\n",
    "                                    NBeatsKeras.SEASONALITY_BLOCK,\n",
    "                                    NBeatsKeras.SEASONALITY_BLOCK)\n",
    "                   ,nb_blocks_per_stack=1, thetas_dim=(1,2,3,24,12,6),\n",
    "                   share_weights_in_stack=True, hidden_layer_units=unit)\n",
    "    return model \n",
    "#################################################################################\n",
    "# nbeats + G모델 생성 함수    \n",
    "def bulid_model_G(backcast_,forecast_,input_dim,output_dim,unit):\n",
    "    model= NBeatsKeras(backcast_length=backcast_, \n",
    "                       forecast_length=forecast_,\n",
    "                       input_dim=input_dim,\n",
    "                       output_dim=output_dim,\n",
    "                       stack_types=(NBeatsKeras.GENERIC_BLOCK,NBeatsKeras.GENERIC_BLOCK)\n",
    "                   ,nb_blocks_per_stack=5, thetas_dim=(4,4),\n",
    "                   share_weights_in_stack=False, hidden_layer_units=unit)\n",
    "    return model \n",
    "#################################################################################\n",
    "# nbeats + I모델 부트스트랩 샘플링 배깅\n",
    "\n",
    "def train_bagging_models(num_models, loss_fn , epochs_, patience_,batch_size_,lr):\n",
    "    models = {}\n",
    "    backcast,forecast,in_dim,out_dim,unit = hyperparameter()\n",
    "    historys = []\n",
    "    for n in range(num_models):\n",
    "        K.clear_session()\n",
    "        model = bulid_model(backcast,forecast,in_dim,out_dim,unit)\n",
    "       # model.set_weights(pretrained_weights)  # 전이 학습 가중치 적용\n",
    "        optimizer = Adam(learning_rate=lr)\n",
    "        model.compile(optimizer=optimizer , loss=loss_fn)\n",
    "        \n",
    "        # 부트스트랩 샘플링\n",
    "        select = np.random.choice(len(X_train), size=len(X_train), replace=True)\n",
    "        X_bootstrap = X_train[select]\n",
    "        y_bootstrap = y_train[select]\n",
    "        early_stop = EarlyStopping(monitor='val_loss', patience = patience_, verbose = 0, restore_best_weights=True)\n",
    "        history = model.fit(X_bootstrap, y_bootstrap, batch_size = batch_size_,\n",
    "                  epochs=epochs_, verbose=0, \n",
    "                  callbacks=[early_stop],\n",
    "                 validation_split = 0.2)\n",
    "        models[f'model_{n+1}'] = model\n",
    "        historys.append(history)\n",
    "        #models.append(model)\n",
    "        print(f\"'########################################################Model{n}\")\n",
    "    return models,historys\n",
    "#################################################################################\n",
    "# nbeats + I모델 부트스트랩 샘플링 배깅\n",
    "\n",
    "def train_bagging_models_G(num_models, loss_fn , epochs_, patience_,batch_size_,lr):\n",
    "    models = {}\n",
    "    backcast,forecast,in_dim,out_dim,unit = hyperparameter()\n",
    "    historys = []\n",
    "    for n in range(num_models):\n",
    "        K.clear_session()\n",
    "        model = bulid_model_G(backcast,forecast,in_dim,out_dim,unit)\n",
    "       # model.set_weights(pretrained_weights)  # 전이 학습 가중치 적용\n",
    "        optimizer = Adam(learning_rate=lr)\n",
    "        model.compile(optimizer=optimizer , loss=loss_fn)\n",
    "        \n",
    "        # 부트스트랩 샘플링\n",
    "        select = np.random.choice(len(X_train), size=len(X_train), replace=True)\n",
    "        X_bootstrap = X_train[select]\n",
    "        y_bootstrap = y_train[select]\n",
    "        early_stop = EarlyStopping(monitor='val_loss', patience = patience_, restore_best_weights=True)\n",
    "        history = model.fit(X_bootstrap, y_bootstrap, batch_size = batch_size_,\n",
    "                  epochs=epochs_, verbose=0, \n",
    "                  callbacks=[early_stop],\n",
    "                 validation_split = 0.2)\n",
    "        models[f'model_{n+1}'] = model\n",
    "        historys.append(history)\n",
    "        #models.append(model)\n",
    "        print(f\"'########################################################Model{n}\")\n",
    "    return models,historys\n",
    "\n",
    "#################################################################################\n",
    "##########################################################################################\n",
    "# 트랜스퍼 레이어\n",
    "class PositionalEncoding(layers.Layer):\n",
    "    def __init__(self, d_model, dropout=0.1, max_len=5000):\n",
    "        super(PositionalEncoding, self).__init__()\n",
    "        self.dropout = layers.Dropout(rate=dropout)\n",
    "\n",
    "        position = np.arange(max_len)[:, np.newaxis]\n",
    "        div_term = np.exp(np.arange(0, d_model, 2) * (-np.log(10000.0) / d_model))\n",
    "        pe = np.zeros((max_len, d_model))\n",
    "        pe[:, 0::2] = np.sin(position * div_term)\n",
    "        pe[:, 1::2] = np.cos(position * div_term)\n",
    "        pe = pe[np.newaxis, ...]\n",
    "\n",
    "        self.pe = tf.constant(pe, dtype=tf.float32)\n",
    "\n",
    "    def call(self, x):\n",
    "        x = x + self.pe[:, :tf.shape(x)[1], :]\n",
    "        return self.dropout(x)\n",
    "##########################################################################################\n",
    "# 트랜스퍼 레이어\n",
    "def create_model1(lossf, d_model, nlayers, nhead, dropout, iw, ow, lr, pretrained_output_reshaped, inputs):\n",
    "    \"\"\"\n",
    "    Create an LSTM model.\n",
    "\n",
    "    Parameters:\n",
    "    - lossf (callable): Loss function to use.\n",
    "    - d_model (int): Dimension of the model.\n",
    "    - nlayers (int): Number of LSTM layers.\n",
    "    - nhead (int): Number of heads (not used in LSTM).\n",
    "    - dropout (float): Dropout rate.\n",
    "    - iw (int): Input width (number of features).\n",
    "    - ow (int): Output width (number of classes).\n",
    "    - lr (float): Learning rate for the optimizer.\n",
    "    - pretrained_output_reshaped: Pre-trained model output reshaped.\n",
    "    - inputs: Input layer.\n",
    "\n",
    "    Returns:\n",
    "    - model: Compiled LSTM model.\n",
    "    \"\"\"\n",
    "    # LSTM input layer\n",
    "    x = LSTM(d_model, return_sequences=False)(pretrained_output_reshaped)\n",
    "    \n",
    "    for _ in range(nlayers - 1):\n",
    "        x = LSTM(d_model, return_sequences=False)(x)\n",
    "       # x = Dropout(dropout)(x)  # Add dropout after each LSTM layer\n",
    "\n",
    "    # Final Dense layer for output\n",
    "    x = Dense(ow, activation='linear')(x)\n",
    "    \n",
    "    # Create the model\n",
    "    model = Model(inputs=inputs, outputs=x)\n",
    "    \n",
    "    # Compile the model\n",
    "    model.compile(optimizer='adam', loss=lossf, metrics=['mae'])  # Adjust metrics as needed\n",
    "    \n",
    "    return model\n",
    "    \n",
    "def create_model(fn,d_model, nlayers, nhead, dropout, iw, ow,lr,pretrained_output_reshaped,inputs):\n",
    "    \n",
    "    \n",
    "    x = layers.Dense(d_model // 2, activation='relu')(pretrained_output_reshaped)\n",
    "    x = layers.Dense(d_model, activation='relu')(x)\n",
    "    \n",
    "    pos_encoding = PositionalEncoding(d_model, dropout)\n",
    "    x = pos_encoding(x)\n",
    "    \n",
    "    for _ in range(nlayers):\n",
    "        attn_output = layers.MultiHeadAttention(num_heads=nhead, key_dim=d_model, dropout=dropout)(x, x)\n",
    "        x = layers.LayerNormalization(epsilon=1e-6)(x + attn_output)\n",
    "        ffn_output = layers.Dense(d_model, activation='relu')(x)\n",
    "        ffn_output = layers.Dense(d_model)(ffn_output)\n",
    "        x = layers.LayerNormalization(epsilon=1e-6)(x + ffn_output)\n",
    "    \n",
    "    x = layers.Dense(d_model // 2, activation='relu')(x)\n",
    "    x = layers.Dense(1)(x)\n",
    "    x = tf.squeeze(x, axis=-1)\n",
    "    \n",
    "    outputs = layers.Dense((iw + ow) // 2, activation='relu')(x)\n",
    "    outputs = layers.Dense(ow)(outputs)\n",
    "    \n",
    "    optimizer = Adam(learning_rate=lr)\n",
    "    target_model = Model(inputs=inputs, outputs=outputs)\n",
    "    target_model.compile(optimizer=optimizer, loss=fn)\n",
    "    \n",
    "    return target_model\n",
    "########################################################################################################################\n",
    "from tensorflow.keras import layers, Model, Input\n",
    "from tensorflow.keras.callbacks import EarlyStopping\n",
    "from tensorflow.keras import backend as K\n",
    "\n",
    "def transfer_LSTM(model_num, models, trainable, lossf, epochs_, batch_size_, pt, lr_):\n",
    "    history_mapes_G = []\n",
    "    model_pred = []\n",
    "    \n",
    "    for i in range(1, model_num + 1):\n",
    "        K.clear_session()\n",
    "        model_name = f'model_{i}'\n",
    "        m, _ = models\n",
    "        model1 = m[model_name]\n",
    "        \n",
    "        # 모든 레이어를 학습 불가능하게 설정\n",
    "        for layer in model1.layers[:-1]:\n",
    "            layer.trainable = trainable\n",
    "            \n",
    "        pretrained_layers = model1.layers[:-1]\n",
    "        pretrained_model = Model(inputs=model1.input, outputs=pretrained_layers[-1].output)\n",
    "\n",
    "        # LSTM 입력을 위한 입력 레이어\n",
    "        inputs = Input(shape=(target_X.shape[1], 1))  # X_train의 shape에 맞게 설정\n",
    "        pretrained_output = pretrained_model(inputs)\n",
    "        pretrained_output_reshaped = layers.Reshape((y_train.shape[1], -1))(pretrained_output)\n",
    "        # LSTM 레이어 추가\n",
    "        lstm_output = layers.LSTM(128,return_sequences=True)(pretrained_output_reshaped )  # LSTM 레이어 추가\n",
    "        lstm_output = layers.LSTM(64,return_sequences=True)(lstm_output)# LSTM 레이어 추가\n",
    "\n",
    "       # lstm_output = layers.Dense(y_train.shape[1], activation='linear')(lstm_output)  # 최종 출력 레이어\n",
    "        lstm_output = layers.Lambda(lambda x: x[:, -24:, :])(lstm_output)\n",
    "\n",
    "        lstm_output = layers.TimeDistributed(layers.Dense(1, activation='linear'))(lstm_output)\n",
    "        model_instance = Model(inputs=inputs, outputs=lstm_output)\n",
    "\n",
    "        model_instance.compile(optimizer='adam', loss=lossf, metrics=['mae'])  # 모델 컴파일\n",
    "        early_stop = EarlyStopping(monitor='val_loss', patience=pt, verbose=0, restore_best_weights=True)\n",
    "    \n",
    "        # 모델 학습\n",
    "        history = model_instance.fit(target_X, target_y, batch_size=batch_size_,\n",
    "                                      epochs=epochs_, verbose=0, \n",
    "                                      callbacks=[early_stop],\n",
    "                                      validation_split=0.2)\n",
    "        \n",
    "        # 예측\n",
    "        pred = model_instance.predict(test_X)\n",
    "        pred = pred.reshape(-1, y_train.shape[1])\n",
    "        model_pred.append(pred)\n",
    "        history_mapes_G.append(history)\n",
    "        print(f\"########################################################fitted {i}\")\n",
    "    \n",
    "    return model_pred\n",
    "\n",
    "def transfer_(model_num,models,trainable,\n",
    "              lossf,epochs_,batch_size_,pt,lr_):\n",
    "    #model_mapes_G = {}\n",
    "    history_mapes_G = []\n",
    "    model_pred = []\n",
    "    for i in range(1, model_num+1):\n",
    "        K.clear_session()\n",
    "        model_name = f'model_{i}'\n",
    "        m,_ = models#[model_name]\n",
    "        model1= m[model_name]\n",
    "        # 모든 레이어를 학습 불가능하게 설정\n",
    "        for layer in model1.layers[:-1]:  # 새로운 레이어 추가된 부분은 학습 가능하도록 설정\n",
    "            layer.trainable = trainable\n",
    "        pretrained_layers = model1.layers[:-1]\n",
    "        \n",
    "        pretrained_model = Model(inputs=model1.input, outputs=pretrained_layers[-1].output)\n",
    "        \n",
    "        inputs = Input(shape=(X_train.shape[1], 1))\n",
    "        pretrained_output = pretrained_model(inputs)\n",
    "        pretrained_output_reshaped = layers.Reshape((y_train.shape[1], -1))(pretrained_output)\n",
    "            \n",
    "        model_instance = create_model1(lossf ,d_model=128, nlayers=1,nhead=10, dropout=0.1, iw=X_train.shape[1], ow=y_train.shape[1],lr=lr_\n",
    "                                      ,pretrained_output_reshaped=pretrained_output_reshaped,inputs=inputs)\n",
    "        early_stop = EarlyStopping(monitor='val_loss', patience=pt, verbose=0, restore_best_weights=True)\n",
    "    \n",
    "        history = model_instance.fit(target_X, target_y, batch_size = batch_size_,\n",
    "                      epochs=epochs_, verbose=0, \n",
    "                      callbacks=[early_stop],\n",
    "                     validation_split = 0.2)\n",
    "        pred = model_instance.predict(test_X)\n",
    "        pred = pred.reshape(-1,y_train.shape[1])\n",
    "        model_pred.append(pred)\n",
    "        history_mapes_G.append(history)\n",
    "        #model_mapes_G[f'model_{i}'] =model_instance\n",
    "        #del model_instance\n",
    "        print(f\"'########################################################fitted{i}\")\n",
    "    return model_pred\n",
    "#################################################################################\n",
    "# 예측\n",
    "\n",
    "def bagging_predict(models, X):\n",
    "    predictions = np.array([model.predict(X) for model in models.values()])\n",
    "    return np.median(predictions, axis=0)\n",
    "\n",
    "def bagging_predict2(models, X):\n",
    "    predictions = np.array([model.predict(X) for model in models.values()])\n",
    "    return predictions"
   ]
  },
  {
   "cell_type": "code",
   "execution_count": 2,
   "id": "a27e2cd6-1f6f-4c32-94ef-a199729c9e9d",
   "metadata": {
    "scrolled": true
   },
   "outputs": [
    {
     "name": "stderr",
     "output_type": "stream",
     "text": [
      "2024-10-09 03:54:34.575411: E tensorflow/compiler/xla/stream_executor/cuda/cuda_driver.cc:267] failed call to cuInit: CUDA_ERROR_NO_DEVICE: no CUDA-capable device is detected\n",
      "2024-10-09 03:54:34.575450: I tensorflow/compiler/xla/stream_executor/cuda/cuda_diagnostics.cc:156] kernel driver does not appear to be running on this host (ymlee2-desktop): /proc/driver/nvidia/version does not exist\n",
      "2024-10-09 03:54:34.575906: I tensorflow/core/platform/cpu_feature_guard.cc:193] This TensorFlow binary is optimized with oneAPI Deep Neural Network Library (oneDNN) to use the following CPU instructions in performance-critical operations:  AVX2 FMA\n",
      "To enable them in other operations, rebuild TensorFlow with the appropriate compiler flags.\n"
     ]
    },
    {
     "name": "stdout",
     "output_type": "stream",
     "text": [
      "'########################################################Model0\n",
      "'########################################################Model1\n",
      "'########################################################Model2\n",
      "'########################################################Model3\n",
      "'########################################################Model4\n",
      "'########################################################Model0\n",
      "'########################################################Model1\n",
      "'########################################################Model2\n",
      "'########################################################Model3\n",
      "'########################################################Model4\n",
      "'########################################################Model0\n",
      "'########################################################Model1\n",
      "'########################################################Model2\n",
      "'########################################################Model3\n",
      "'########################################################Model4\n",
      "'########################################################Model0\n",
      "'########################################################Model1\n",
      "'########################################################Model2\n",
      "'########################################################Model3\n",
      "'########################################################Model4\n",
      "'########################################################Model0\n",
      "'########################################################Model1\n",
      "'########################################################Model2\n",
      "'########################################################Model3\n",
      "'########################################################Model4\n"
     ]
    }
   ],
   "source": [
    "num=5\n",
    "mape_models = train_bagging_models(num,'mape',2000,10,512,0.001)\n",
    "smape_models = train_bagging_models(num,SMAPE(),2000,10,512,0.001)\n",
    "mase_models = train_bagging_models(num,MASE(y_train,y_train.shape[1]),2000,10,512,0.001)\n",
    "mae_models = train_bagging_models(num,'mae',2000,10,512,0.001)\n",
    "mse_models = train_bagging_models(num,'mse',2000,10,512,0.001)"
   ]
  },
  {
   "cell_type": "code",
   "execution_count": 4,
   "id": "3d5bf679-acab-48b5-b52f-1a1d4c6634ed",
   "metadata": {
    "scrolled": true
   },
   "outputs": [
    {
     "name": "stdout",
     "output_type": "stream",
     "text": [
      "12/12 [==============================] - 1s 7ms/step\n",
      "########################################################fitted 1\n",
      "12/12 [==============================] - 1s 9ms/step\n",
      "########################################################fitted 2\n",
      "12/12 [==============================] - 3s 10ms/step\n",
      "########################################################fitted 3\n",
      "12/12 [==============================] - 1s 10ms/step\n",
      "########################################################fitted 4\n",
      "12/12 [==============================] - 1s 9ms/step\n",
      "########################################################fitted 5\n",
      "12/12 [==============================] - 1s 9ms/step\n",
      "########################################################fitted 1\n",
      "12/12 [==============================] - 1s 9ms/step\n",
      "########################################################fitted 2\n",
      "12/12 [==============================] - 1s 9ms/step\n",
      "########################################################fitted 3\n",
      "12/12 [==============================] - 1s 7ms/step\n",
      "########################################################fitted 4\n",
      "12/12 [==============================] - 1s 9ms/step\n",
      "########################################################fitted 5\n"
     ]
    }
   ],
   "source": [
    "\n",
    "mape_pred = transfer_LSTM(num,mape_models,True, 'mape',2000,8,10,0.001)\n",
    "mase_pred = transfer_LSTM(num,mase_models,True, MASE(target_y,y_train.shape[1]),2000,8,10,0.001)\n",
    "smape_pred = transfer_LSTM(num,smape_models,True, SMAPE(),2000,8,10,0.001)\n",
    "mae_pred = transfer_LSTM(num,mae_models,True, 'mae',2000,8,10,0.001)\n",
    "mse_pred = transfer_LSTM(num,mse_models,True, 'mse',2000,8,10,0.001)\n"
   ]
  },
  {
   "cell_type": "code",
   "execution_count": 22,
   "id": "a9ffe643-a7f3-46f1-8714-c7ac2b3b0bd5",
   "metadata": {},
   "outputs": [
    {
     "data": {
      "text/plain": [
       "(5.637166656669798, 4.254803394384512)"
      ]
     },
     "execution_count": 22,
     "metadata": {},
     "output_type": "execute_result"
    }
   ],
   "source": [
    "concat_G = np.concatenate([mape_pred,\n",
    "                          mase_pred,\n",
    "                           smape_pred,\n",
    "                          mae_pred,\n",
    "                          mse_pred])\n",
    "\n",
    "fin_pred_G = np.median(concat_G,axis=0)\n",
    "pd.DataFrame(fin_pred_G.flatten()).to_csv(\"../result7/nbeats_i+lstm.csv\")\n",
    "np.sqrt(mean_squared_error(test_y.flatten(),fin_pred_G.flatten())),mean_absolute_error(test_y.flatten(),fin_pred_G.flatten())"
   ]
  },
  {
   "cell_type": "code",
   "execution_count": 25,
   "id": "80975dc7-62a3-48d8-a2f7-a540bce1b5f1",
   "metadata": {},
   "outputs": [
    {
     "data": {
      "text/plain": [
       "(2.947678763329276, 2.197479686774036)"
      ]
     },
     "execution_count": 25,
     "metadata": {},
     "output_type": "execute_result"
    }
   ],
   "source": [
    "concat_G = np.concatenate([mae_pred,\n",
    "                          mase_pred,\n",
    "                           mse_pred])\n",
    "\n",
    "fin_pred_G = np.median(concat_G,axis=0)\n",
    "pd.DataFrame(fin_pred_G.flatten()).to_csv(\"../best7/NBEATs+I+LSTM.csv\")\n",
    "np.sqrt(mean_squared_error(test_y.flatten(),fin_pred_G.flatten())),mean_absolute_error(test_y.flatten(),fin_pred_G.flatten())"
   ]
  },
  {
   "cell_type": "code",
   "execution_count": 23,
   "id": "2ef3118e-2a71-43f8-a94e-7e3e55d0dc5c",
   "metadata": {},
   "outputs": [
    {
     "data": {
      "text/plain": [
       "(5.839977168469117, 4.452558114210263)"
      ]
     },
     "execution_count": 23,
     "metadata": {},
     "output_type": "execute_result"
    }
   ],
   "source": [
    "concat_G = np.concatenate([mape_pred,\n",
    "                          mase_pred,\n",
    "                           smape_pred])\n",
    "\n",
    "fin_pred_G = np.median(concat_G,axis=0)\n",
    "\n",
    "np.sqrt(mean_squared_error(test_y.flatten(),fin_pred_G.flatten())),mean_absolute_error(test_y.flatten(),fin_pred_G.flatten())"
   ]
  },
  {
   "cell_type": "code",
   "execution_count": 15,
   "id": "ca25d399-dcf1-4754-95a8-e2a2a1aa207e",
   "metadata": {},
   "outputs": [],
   "source": [
    "#mae_models = train_bagging_models_G(10,'mae',50,5,512,0.001)\n",
    "#mse_models = train_bagging_models_G(10,'mse',50,5,512,0.001)\n",
    "\n",
    "#mae_pred = transfer_(10,mape_models,True, 'mae',1000,8,30,0.0005)\n",
    "#mse_pred = transfer_(10,mape_models,True, 'mse',1000,8,30,0.0005)\n"
   ]
  },
  {
   "cell_type": "code",
   "execution_count": 16,
   "id": "6a698d8c-4c50-46eb-8316-f90b8cb61115",
   "metadata": {},
   "outputs": [
    {
     "data": {
      "text/plain": [
       "(2.848319278818039, 2.055891552799879)"
      ]
     },
     "execution_count": 16,
     "metadata": {},
     "output_type": "execute_result"
    }
   ],
   "source": [
    "concat_G = np.concatenate([np.array(mase_pred)])\n",
    "\n",
    "fin_pred_G = np.median(concat_G,axis=0)\n",
    "\n",
    "np.sqrt(mean_squared_error(test_y.flatten(),fin_pred_G.flatten())),mean_absolute_error(test_y.flatten(),fin_pred_G.flatten())"
   ]
  },
  {
   "cell_type": "code",
   "execution_count": 17,
   "id": "cdacccf7-169e-46ed-8f10-0d5f53debce2",
   "metadata": {},
   "outputs": [
    {
     "data": {
      "text/plain": [
       "(18.029345612393353, 15.42985702516344)"
      ]
     },
     "execution_count": 17,
     "metadata": {},
     "output_type": "execute_result"
    }
   ],
   "source": [
    "concat_G = np.concatenate([np.array(mape_pred)])\n",
    "\n",
    "fin_pred_G = np.median(concat_G,axis=0)\n",
    "\n",
    "np.sqrt(mean_squared_error(test_y.flatten(),fin_pred_G.flatten())),mean_absolute_error(test_y.flatten(),fin_pred_G.flatten())"
   ]
  },
  {
   "cell_type": "code",
   "execution_count": 18,
   "id": "57f9fe5e-e983-4c13-a538-d5073c7a71eb",
   "metadata": {},
   "outputs": [
    {
     "data": {
      "text/plain": [
       "(11.43962140636523, 9.271413878622)"
      ]
     },
     "execution_count": 18,
     "metadata": {},
     "output_type": "execute_result"
    }
   ],
   "source": [
    "concat_G = np.concatenate([np.array(smape_pred)])\n",
    "\n",
    "fin_pred_G = np.median(concat_G,axis=0)\n",
    "\n",
    "np.sqrt(mean_squared_error(test_y.flatten(),fin_pred_G.flatten())),mean_absolute_error(test_y.flatten(),fin_pred_G.flatten())"
   ]
  },
  {
   "cell_type": "code",
   "execution_count": 19,
   "id": "e89144ba-be47-4795-a8c0-ccbb805d9d80",
   "metadata": {},
   "outputs": [
    {
     "data": {
      "text/plain": [
       "(2.9562145790293104, 2.1974634463109726)"
      ]
     },
     "execution_count": 19,
     "metadata": {},
     "output_type": "execute_result"
    }
   ],
   "source": [
    "concat_G = np.concatenate([np.array(mae_pred)])\n",
    "\n",
    "fin_pred_G = np.median(concat_G,axis=0)\n",
    "\n",
    "np.sqrt(mean_squared_error(test_y.flatten(),fin_pred_G.flatten())),mean_absolute_error(test_y.flatten(),fin_pred_G.flatten())"
   ]
  },
  {
   "cell_type": "code",
   "execution_count": 20,
   "id": "6e3ae036-2c68-45a1-bffc-281af73984f0",
   "metadata": {},
   "outputs": [
    {
     "data": {
      "text/plain": [
       "(4.989329106716441, 3.7679613042099045)"
      ]
     },
     "execution_count": 20,
     "metadata": {},
     "output_type": "execute_result"
    }
   ],
   "source": [
    "concat_G = np.concatenate([np.array(mse_pred)])\n",
    "\n",
    "fin_pred_G = np.median(concat_G,axis=0)\n",
    "\n",
    "np.sqrt(mean_squared_error(test_y.flatten(),fin_pred_G.flatten())),mean_absolute_error(test_y.flatten(),fin_pred_G.flatten())"
   ]
  }
 ],
 "metadata": {
  "kernelspec": {
   "display_name": "Python 3 (ipykernel)",
   "language": "python",
   "name": "python3"
  },
  "language_info": {
   "codemirror_mode": {
    "name": "ipython",
    "version": 3
   },
   "file_extension": ".py",
   "mimetype": "text/x-python",
   "name": "python",
   "nbconvert_exporter": "python",
   "pygments_lexer": "ipython3",
   "version": "3.10.13"
  }
 },
 "nbformat": 4,
 "nbformat_minor": 5
}
